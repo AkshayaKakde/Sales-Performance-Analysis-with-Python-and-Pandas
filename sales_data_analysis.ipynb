{
  "metadata": {
    "kernelspec": {
      "language": "python",
      "display_name": "Python 3",
      "name": "python3"
    },
    "language_info": {
      "name": "python",
      "version": "3.10.13",
      "mimetype": "text/x-python",
      "codemirror_mode": {
        "name": "ipython",
        "version": 3
      },
      "pygments_lexer": "ipython3",
      "nbconvert_exporter": "python",
      "file_extension": ".py"
    },
    "kaggle": {
      "accelerator": "none",
      "dataSources": [
        {
          "sourceId": 5181812,
          "sourceType": "datasetVersion",
          "datasetId": 3012492
        }
      ],
      "dockerImageVersionId": 30646,
      "isInternetEnabled": true,
      "language": "python",
      "sourceType": "notebook",
      "isGpuEnabled": false
    },
    "colab": {
      "provenance": [],
      "include_colab_link": true
    }
  },
  "nbformat_minor": 0,
  "nbformat": 4,
  "cells": [
    {
      "cell_type": "markdown",
      "metadata": {
        "id": "view-in-github",
        "colab_type": "text"
      },
      "source": [
        "<a href=\"https://colab.research.google.com/github/AkshayaKakde/Patient-Health-Data-Analysis-and-Recommendation-Reporting-System/blob/main/sales_data_analysis.ipynb\" target=\"_parent\"><img src=\"https://colab.research.google.com/assets/colab-badge.svg\" alt=\"Open In Colab\"/></a>"
      ]
    },
    {
      "cell_type": "code",
      "source": [
        "# This Python 3 environment comes with many helpful analytics libraries installed\n",
        "# It is defined by the kaggle/python Docker image: https://github.com/kaggle/docker-python\n",
        "# For example, here's several helpful packages to load\n",
        "\n",
        "import numpy as np # linear algebra\n",
        "import pandas as pd # data processing, CSV file I/O (e.g. pd.read_csv)\n",
        "\n",
        "# Input data files are available in the read-only \"../input/\" directory\n",
        "# For example, running this (by clicking run or pressing Shift+Enter) will list all files under the input directory\n",
        "\n",
        "import os\n",
        "for dirname, _, filenames in os.walk('/kaggle/input'):\n",
        "    for filename in filenames:\n",
        "        print(os.path.join(dirname, filename))\n",
        "\n",
        "# You can write up to 20GB to the current directory (/kaggle/working/) that gets preserved as output when you create a version using \"Save & Run All\"\n",
        "# You can also write temporary files to /kaggle/temp/, but they won't be saved outside of the current session"
      ],
      "metadata": {
        "id": "Z72LaL_VbW9n"
      },
      "execution_count": 2,
      "outputs": []
    },
    {
      "cell_type": "code",
      "source": [],
      "metadata": {
        "id": "lxxx90PebWw3"
      },
      "execution_count": null,
      "outputs": []
    },
    {
      "cell_type": "code",
      "source": [
        "import pandas as pd"
      ],
      "metadata": {
        "id": "0Ih2eaCtCySf"
      },
      "execution_count": null,
      "outputs": []
    },
    {
      "cell_type": "code",
      "source": [
        "df = pd.read_csv(\"sales_data.csv\")\n",
        "df"
      ],
      "metadata": {
        "execution": {
          "iopub.status.busy": "2024-02-07T14:41:11.668840Z",
          "iopub.execute_input": "2024-02-07T14:41:11.669368Z",
          "iopub.status.idle": "2024-02-07T14:41:11.862222Z",
          "shell.execute_reply.started": "2024-02-07T14:41:11.669330Z",
          "shell.execute_reply": "2024-02-07T14:41:11.860938Z"
        },
        "trusted": true,
        "colab": {
          "base_uri": "https://localhost:8080/",
          "height": 617
        },
        "id": "b_OKgwo7Bj9p",
        "outputId": "01de150b-b89b-4c5d-bb6f-bd204abadaa4"
      },
      "execution_count": 3,
      "outputs": [
        {
          "output_type": "execute_result",
          "data": {
            "text/plain": [
              "       index       Date    Year     Month  Customer Age Customer Gender  \\\n",
              "0          0  2/19/2016  2016.0  February          29.0               F   \n",
              "1          1  2/20/2016  2016.0  February          29.0               F   \n",
              "2          2  2/27/2016  2016.0  February          29.0               F   \n",
              "3          3  3/12/2016  2016.0     March          29.0               F   \n",
              "4          4  3/12/2016  2016.0     March          29.0               F   \n",
              "...      ...        ...     ...       ...           ...             ...   \n",
              "34862  34862   2/7/2016  2016.0  February          38.0               M   \n",
              "34863  34863  3/13/2015  2015.0     March          38.0               M   \n",
              "34864  34864   4/5/2015  2015.0     April          38.0               M   \n",
              "34865  34865  8/30/2015  2015.0    August          38.0               M   \n",
              "34866  34866        NaN     NaN       NaN           NaN             NaN   \n",
              "\n",
              "             Country           State Product Category     Sub Category  \\\n",
              "0      United States      Washington      Accessories  Tires and Tubes   \n",
              "1      United States      Washington         Clothing           Gloves   \n",
              "2      United States      Washington      Accessories  Tires and Tubes   \n",
              "3      United States      Washington      Accessories  Tires and Tubes   \n",
              "4      United States      Washington      Accessories  Tires and Tubes   \n",
              "...              ...             ...              ...              ...   \n",
              "34862         France  Hauts de Seine            Bikes   Mountain Bikes   \n",
              "34863         France  Hauts de Seine            Bikes   Mountain Bikes   \n",
              "34864         France  Hauts de Seine            Bikes   Mountain Bikes   \n",
              "34865         France  Hauts de Seine            Bikes   Mountain Bikes   \n",
              "34866            NaN             NaN              NaN              NaN   \n",
              "\n",
              "       Quantity  Unit Cost   Unit Price    Cost      Revenue  Column1  \n",
              "0           1.0      80.00   109.000000    80.0   109.000000      NaN  \n",
              "1           2.0      24.50    28.500000    49.0    57.000000      NaN  \n",
              "2           3.0       3.67     5.000000    11.0    15.000000      NaN  \n",
              "3           2.0      87.50   116.500000   175.0   233.000000      NaN  \n",
              "4           3.0      35.00    41.666667   105.0   125.000000      NaN  \n",
              "...         ...        ...          ...     ...          ...      ...  \n",
              "34862       2.0    1160.00   985.500000  2320.0  1971.000000      NaN  \n",
              "34863       1.0    2049.00  1583.000000  2049.0  1583.000000      NaN  \n",
              "34864       3.0     683.00   560.666667  2049.0  1682.000000      NaN  \n",
              "34865       1.0    2320.00  1568.000000  2320.0  1568.000000      NaN  \n",
              "34866       NaN        NaN          NaN     NaN   641.532095      NaN  \n",
              "\n",
              "[34867 rows x 16 columns]"
            ],
            "text/html": [
              "\n",
              "  <div id=\"df-46974d3f-2076-4511-bdd6-814fefe0eea6\" class=\"colab-df-container\">\n",
              "    <div>\n",
              "<style scoped>\n",
              "    .dataframe tbody tr th:only-of-type {\n",
              "        vertical-align: middle;\n",
              "    }\n",
              "\n",
              "    .dataframe tbody tr th {\n",
              "        vertical-align: top;\n",
              "    }\n",
              "\n",
              "    .dataframe thead th {\n",
              "        text-align: right;\n",
              "    }\n",
              "</style>\n",
              "<table border=\"1\" class=\"dataframe\">\n",
              "  <thead>\n",
              "    <tr style=\"text-align: right;\">\n",
              "      <th></th>\n",
              "      <th>index</th>\n",
              "      <th>Date</th>\n",
              "      <th>Year</th>\n",
              "      <th>Month</th>\n",
              "      <th>Customer Age</th>\n",
              "      <th>Customer Gender</th>\n",
              "      <th>Country</th>\n",
              "      <th>State</th>\n",
              "      <th>Product Category</th>\n",
              "      <th>Sub Category</th>\n",
              "      <th>Quantity</th>\n",
              "      <th>Unit Cost</th>\n",
              "      <th>Unit Price</th>\n",
              "      <th>Cost</th>\n",
              "      <th>Revenue</th>\n",
              "      <th>Column1</th>\n",
              "    </tr>\n",
              "  </thead>\n",
              "  <tbody>\n",
              "    <tr>\n",
              "      <th>0</th>\n",
              "      <td>0</td>\n",
              "      <td>2/19/2016</td>\n",
              "      <td>2016.0</td>\n",
              "      <td>February</td>\n",
              "      <td>29.0</td>\n",
              "      <td>F</td>\n",
              "      <td>United States</td>\n",
              "      <td>Washington</td>\n",
              "      <td>Accessories</td>\n",
              "      <td>Tires and Tubes</td>\n",
              "      <td>1.0</td>\n",
              "      <td>80.00</td>\n",
              "      <td>109.000000</td>\n",
              "      <td>80.0</td>\n",
              "      <td>109.000000</td>\n",
              "      <td>NaN</td>\n",
              "    </tr>\n",
              "    <tr>\n",
              "      <th>1</th>\n",
              "      <td>1</td>\n",
              "      <td>2/20/2016</td>\n",
              "      <td>2016.0</td>\n",
              "      <td>February</td>\n",
              "      <td>29.0</td>\n",
              "      <td>F</td>\n",
              "      <td>United States</td>\n",
              "      <td>Washington</td>\n",
              "      <td>Clothing</td>\n",
              "      <td>Gloves</td>\n",
              "      <td>2.0</td>\n",
              "      <td>24.50</td>\n",
              "      <td>28.500000</td>\n",
              "      <td>49.0</td>\n",
              "      <td>57.000000</td>\n",
              "      <td>NaN</td>\n",
              "    </tr>\n",
              "    <tr>\n",
              "      <th>2</th>\n",
              "      <td>2</td>\n",
              "      <td>2/27/2016</td>\n",
              "      <td>2016.0</td>\n",
              "      <td>February</td>\n",
              "      <td>29.0</td>\n",
              "      <td>F</td>\n",
              "      <td>United States</td>\n",
              "      <td>Washington</td>\n",
              "      <td>Accessories</td>\n",
              "      <td>Tires and Tubes</td>\n",
              "      <td>3.0</td>\n",
              "      <td>3.67</td>\n",
              "      <td>5.000000</td>\n",
              "      <td>11.0</td>\n",
              "      <td>15.000000</td>\n",
              "      <td>NaN</td>\n",
              "    </tr>\n",
              "    <tr>\n",
              "      <th>3</th>\n",
              "      <td>3</td>\n",
              "      <td>3/12/2016</td>\n",
              "      <td>2016.0</td>\n",
              "      <td>March</td>\n",
              "      <td>29.0</td>\n",
              "      <td>F</td>\n",
              "      <td>United States</td>\n",
              "      <td>Washington</td>\n",
              "      <td>Accessories</td>\n",
              "      <td>Tires and Tubes</td>\n",
              "      <td>2.0</td>\n",
              "      <td>87.50</td>\n",
              "      <td>116.500000</td>\n",
              "      <td>175.0</td>\n",
              "      <td>233.000000</td>\n",
              "      <td>NaN</td>\n",
              "    </tr>\n",
              "    <tr>\n",
              "      <th>4</th>\n",
              "      <td>4</td>\n",
              "      <td>3/12/2016</td>\n",
              "      <td>2016.0</td>\n",
              "      <td>March</td>\n",
              "      <td>29.0</td>\n",
              "      <td>F</td>\n",
              "      <td>United States</td>\n",
              "      <td>Washington</td>\n",
              "      <td>Accessories</td>\n",
              "      <td>Tires and Tubes</td>\n",
              "      <td>3.0</td>\n",
              "      <td>35.00</td>\n",
              "      <td>41.666667</td>\n",
              "      <td>105.0</td>\n",
              "      <td>125.000000</td>\n",
              "      <td>NaN</td>\n",
              "    </tr>\n",
              "    <tr>\n",
              "      <th>...</th>\n",
              "      <td>...</td>\n",
              "      <td>...</td>\n",
              "      <td>...</td>\n",
              "      <td>...</td>\n",
              "      <td>...</td>\n",
              "      <td>...</td>\n",
              "      <td>...</td>\n",
              "      <td>...</td>\n",
              "      <td>...</td>\n",
              "      <td>...</td>\n",
              "      <td>...</td>\n",
              "      <td>...</td>\n",
              "      <td>...</td>\n",
              "      <td>...</td>\n",
              "      <td>...</td>\n",
              "      <td>...</td>\n",
              "    </tr>\n",
              "    <tr>\n",
              "      <th>34862</th>\n",
              "      <td>34862</td>\n",
              "      <td>2/7/2016</td>\n",
              "      <td>2016.0</td>\n",
              "      <td>February</td>\n",
              "      <td>38.0</td>\n",
              "      <td>M</td>\n",
              "      <td>France</td>\n",
              "      <td>Hauts de Seine</td>\n",
              "      <td>Bikes</td>\n",
              "      <td>Mountain Bikes</td>\n",
              "      <td>2.0</td>\n",
              "      <td>1160.00</td>\n",
              "      <td>985.500000</td>\n",
              "      <td>2320.0</td>\n",
              "      <td>1971.000000</td>\n",
              "      <td>NaN</td>\n",
              "    </tr>\n",
              "    <tr>\n",
              "      <th>34863</th>\n",
              "      <td>34863</td>\n",
              "      <td>3/13/2015</td>\n",
              "      <td>2015.0</td>\n",
              "      <td>March</td>\n",
              "      <td>38.0</td>\n",
              "      <td>M</td>\n",
              "      <td>France</td>\n",
              "      <td>Hauts de Seine</td>\n",
              "      <td>Bikes</td>\n",
              "      <td>Mountain Bikes</td>\n",
              "      <td>1.0</td>\n",
              "      <td>2049.00</td>\n",
              "      <td>1583.000000</td>\n",
              "      <td>2049.0</td>\n",
              "      <td>1583.000000</td>\n",
              "      <td>NaN</td>\n",
              "    </tr>\n",
              "    <tr>\n",
              "      <th>34864</th>\n",
              "      <td>34864</td>\n",
              "      <td>4/5/2015</td>\n",
              "      <td>2015.0</td>\n",
              "      <td>April</td>\n",
              "      <td>38.0</td>\n",
              "      <td>M</td>\n",
              "      <td>France</td>\n",
              "      <td>Hauts de Seine</td>\n",
              "      <td>Bikes</td>\n",
              "      <td>Mountain Bikes</td>\n",
              "      <td>3.0</td>\n",
              "      <td>683.00</td>\n",
              "      <td>560.666667</td>\n",
              "      <td>2049.0</td>\n",
              "      <td>1682.000000</td>\n",
              "      <td>NaN</td>\n",
              "    </tr>\n",
              "    <tr>\n",
              "      <th>34865</th>\n",
              "      <td>34865</td>\n",
              "      <td>8/30/2015</td>\n",
              "      <td>2015.0</td>\n",
              "      <td>August</td>\n",
              "      <td>38.0</td>\n",
              "      <td>M</td>\n",
              "      <td>France</td>\n",
              "      <td>Hauts de Seine</td>\n",
              "      <td>Bikes</td>\n",
              "      <td>Mountain Bikes</td>\n",
              "      <td>1.0</td>\n",
              "      <td>2320.00</td>\n",
              "      <td>1568.000000</td>\n",
              "      <td>2320.0</td>\n",
              "      <td>1568.000000</td>\n",
              "      <td>NaN</td>\n",
              "    </tr>\n",
              "    <tr>\n",
              "      <th>34866</th>\n",
              "      <td>34866</td>\n",
              "      <td>NaN</td>\n",
              "      <td>NaN</td>\n",
              "      <td>NaN</td>\n",
              "      <td>NaN</td>\n",
              "      <td>NaN</td>\n",
              "      <td>NaN</td>\n",
              "      <td>NaN</td>\n",
              "      <td>NaN</td>\n",
              "      <td>NaN</td>\n",
              "      <td>NaN</td>\n",
              "      <td>NaN</td>\n",
              "      <td>NaN</td>\n",
              "      <td>NaN</td>\n",
              "      <td>641.532095</td>\n",
              "      <td>NaN</td>\n",
              "    </tr>\n",
              "  </tbody>\n",
              "</table>\n",
              "<p>34867 rows × 16 columns</p>\n",
              "</div>\n",
              "    <div class=\"colab-df-buttons\">\n",
              "\n",
              "  <div class=\"colab-df-container\">\n",
              "    <button class=\"colab-df-convert\" onclick=\"convertToInteractive('df-46974d3f-2076-4511-bdd6-814fefe0eea6')\"\n",
              "            title=\"Convert this dataframe to an interactive table.\"\n",
              "            style=\"display:none;\">\n",
              "\n",
              "  <svg xmlns=\"http://www.w3.org/2000/svg\" height=\"24px\" viewBox=\"0 -960 960 960\">\n",
              "    <path d=\"M120-120v-720h720v720H120Zm60-500h600v-160H180v160Zm220 220h160v-160H400v160Zm0 220h160v-160H400v160ZM180-400h160v-160H180v160Zm440 0h160v-160H620v160ZM180-180h160v-160H180v160Zm440 0h160v-160H620v160Z\"/>\n",
              "  </svg>\n",
              "    </button>\n",
              "\n",
              "  <style>\n",
              "    .colab-df-container {\n",
              "      display:flex;\n",
              "      gap: 12px;\n",
              "    }\n",
              "\n",
              "    .colab-df-convert {\n",
              "      background-color: #E8F0FE;\n",
              "      border: none;\n",
              "      border-radius: 50%;\n",
              "      cursor: pointer;\n",
              "      display: none;\n",
              "      fill: #1967D2;\n",
              "      height: 32px;\n",
              "      padding: 0 0 0 0;\n",
              "      width: 32px;\n",
              "    }\n",
              "\n",
              "    .colab-df-convert:hover {\n",
              "      background-color: #E2EBFA;\n",
              "      box-shadow: 0px 1px 2px rgba(60, 64, 67, 0.3), 0px 1px 3px 1px rgba(60, 64, 67, 0.15);\n",
              "      fill: #174EA6;\n",
              "    }\n",
              "\n",
              "    .colab-df-buttons div {\n",
              "      margin-bottom: 4px;\n",
              "    }\n",
              "\n",
              "    [theme=dark] .colab-df-convert {\n",
              "      background-color: #3B4455;\n",
              "      fill: #D2E3FC;\n",
              "    }\n",
              "\n",
              "    [theme=dark] .colab-df-convert:hover {\n",
              "      background-color: #434B5C;\n",
              "      box-shadow: 0px 1px 3px 1px rgba(0, 0, 0, 0.15);\n",
              "      filter: drop-shadow(0px 1px 2px rgba(0, 0, 0, 0.3));\n",
              "      fill: #FFFFFF;\n",
              "    }\n",
              "  </style>\n",
              "\n",
              "    <script>\n",
              "      const buttonEl =\n",
              "        document.querySelector('#df-46974d3f-2076-4511-bdd6-814fefe0eea6 button.colab-df-convert');\n",
              "      buttonEl.style.display =\n",
              "        google.colab.kernel.accessAllowed ? 'block' : 'none';\n",
              "\n",
              "      async function convertToInteractive(key) {\n",
              "        const element = document.querySelector('#df-46974d3f-2076-4511-bdd6-814fefe0eea6');\n",
              "        const dataTable =\n",
              "          await google.colab.kernel.invokeFunction('convertToInteractive',\n",
              "                                                    [key], {});\n",
              "        if (!dataTable) return;\n",
              "\n",
              "        const docLinkHtml = 'Like what you see? Visit the ' +\n",
              "          '<a target=\"_blank\" href=https://colab.research.google.com/notebooks/data_table.ipynb>data table notebook</a>'\n",
              "          + ' to learn more about interactive tables.';\n",
              "        element.innerHTML = '';\n",
              "        dataTable['output_type'] = 'display_data';\n",
              "        await google.colab.output.renderOutput(dataTable, element);\n",
              "        const docLink = document.createElement('div');\n",
              "        docLink.innerHTML = docLinkHtml;\n",
              "        element.appendChild(docLink);\n",
              "      }\n",
              "    </script>\n",
              "  </div>\n",
              "\n",
              "\n",
              "<div id=\"df-9e4649b1-71b3-459f-aab8-0c41135be397\">\n",
              "  <button class=\"colab-df-quickchart\" onclick=\"quickchart('df-9e4649b1-71b3-459f-aab8-0c41135be397')\"\n",
              "            title=\"Suggest charts\"\n",
              "            style=\"display:none;\">\n",
              "\n",
              "<svg xmlns=\"http://www.w3.org/2000/svg\" height=\"24px\"viewBox=\"0 0 24 24\"\n",
              "     width=\"24px\">\n",
              "    <g>\n",
              "        <path d=\"M19 3H5c-1.1 0-2 .9-2 2v14c0 1.1.9 2 2 2h14c1.1 0 2-.9 2-2V5c0-1.1-.9-2-2-2zM9 17H7v-7h2v7zm4 0h-2V7h2v10zm4 0h-2v-4h2v4z\"/>\n",
              "    </g>\n",
              "</svg>\n",
              "  </button>\n",
              "\n",
              "<style>\n",
              "  .colab-df-quickchart {\n",
              "      --bg-color: #E8F0FE;\n",
              "      --fill-color: #1967D2;\n",
              "      --hover-bg-color: #E2EBFA;\n",
              "      --hover-fill-color: #174EA6;\n",
              "      --disabled-fill-color: #AAA;\n",
              "      --disabled-bg-color: #DDD;\n",
              "  }\n",
              "\n",
              "  [theme=dark] .colab-df-quickchart {\n",
              "      --bg-color: #3B4455;\n",
              "      --fill-color: #D2E3FC;\n",
              "      --hover-bg-color: #434B5C;\n",
              "      --hover-fill-color: #FFFFFF;\n",
              "      --disabled-bg-color: #3B4455;\n",
              "      --disabled-fill-color: #666;\n",
              "  }\n",
              "\n",
              "  .colab-df-quickchart {\n",
              "    background-color: var(--bg-color);\n",
              "    border: none;\n",
              "    border-radius: 50%;\n",
              "    cursor: pointer;\n",
              "    display: none;\n",
              "    fill: var(--fill-color);\n",
              "    height: 32px;\n",
              "    padding: 0;\n",
              "    width: 32px;\n",
              "  }\n",
              "\n",
              "  .colab-df-quickchart:hover {\n",
              "    background-color: var(--hover-bg-color);\n",
              "    box-shadow: 0 1px 2px rgba(60, 64, 67, 0.3), 0 1px 3px 1px rgba(60, 64, 67, 0.15);\n",
              "    fill: var(--button-hover-fill-color);\n",
              "  }\n",
              "\n",
              "  .colab-df-quickchart-complete:disabled,\n",
              "  .colab-df-quickchart-complete:disabled:hover {\n",
              "    background-color: var(--disabled-bg-color);\n",
              "    fill: var(--disabled-fill-color);\n",
              "    box-shadow: none;\n",
              "  }\n",
              "\n",
              "  .colab-df-spinner {\n",
              "    border: 2px solid var(--fill-color);\n",
              "    border-color: transparent;\n",
              "    border-bottom-color: var(--fill-color);\n",
              "    animation:\n",
              "      spin 1s steps(1) infinite;\n",
              "  }\n",
              "\n",
              "  @keyframes spin {\n",
              "    0% {\n",
              "      border-color: transparent;\n",
              "      border-bottom-color: var(--fill-color);\n",
              "      border-left-color: var(--fill-color);\n",
              "    }\n",
              "    20% {\n",
              "      border-color: transparent;\n",
              "      border-left-color: var(--fill-color);\n",
              "      border-top-color: var(--fill-color);\n",
              "    }\n",
              "    30% {\n",
              "      border-color: transparent;\n",
              "      border-left-color: var(--fill-color);\n",
              "      border-top-color: var(--fill-color);\n",
              "      border-right-color: var(--fill-color);\n",
              "    }\n",
              "    40% {\n",
              "      border-color: transparent;\n",
              "      border-right-color: var(--fill-color);\n",
              "      border-top-color: var(--fill-color);\n",
              "    }\n",
              "    60% {\n",
              "      border-color: transparent;\n",
              "      border-right-color: var(--fill-color);\n",
              "    }\n",
              "    80% {\n",
              "      border-color: transparent;\n",
              "      border-right-color: var(--fill-color);\n",
              "      border-bottom-color: var(--fill-color);\n",
              "    }\n",
              "    90% {\n",
              "      border-color: transparent;\n",
              "      border-bottom-color: var(--fill-color);\n",
              "    }\n",
              "  }\n",
              "</style>\n",
              "\n",
              "  <script>\n",
              "    async function quickchart(key) {\n",
              "      const quickchartButtonEl =\n",
              "        document.querySelector('#' + key + ' button');\n",
              "      quickchartButtonEl.disabled = true;  // To prevent multiple clicks.\n",
              "      quickchartButtonEl.classList.add('colab-df-spinner');\n",
              "      try {\n",
              "        const charts = await google.colab.kernel.invokeFunction(\n",
              "            'suggestCharts', [key], {});\n",
              "      } catch (error) {\n",
              "        console.error('Error during call to suggestCharts:', error);\n",
              "      }\n",
              "      quickchartButtonEl.classList.remove('colab-df-spinner');\n",
              "      quickchartButtonEl.classList.add('colab-df-quickchart-complete');\n",
              "    }\n",
              "    (() => {\n",
              "      let quickchartButtonEl =\n",
              "        document.querySelector('#df-9e4649b1-71b3-459f-aab8-0c41135be397 button');\n",
              "      quickchartButtonEl.style.display =\n",
              "        google.colab.kernel.accessAllowed ? 'block' : 'none';\n",
              "    })();\n",
              "  </script>\n",
              "</div>\n",
              "\n",
              "  <div id=\"id_2e3d0621-f5a2-4735-8fd4-fdef5a1fbe45\">\n",
              "    <style>\n",
              "      .colab-df-generate {\n",
              "        background-color: #E8F0FE;\n",
              "        border: none;\n",
              "        border-radius: 50%;\n",
              "        cursor: pointer;\n",
              "        display: none;\n",
              "        fill: #1967D2;\n",
              "        height: 32px;\n",
              "        padding: 0 0 0 0;\n",
              "        width: 32px;\n",
              "      }\n",
              "\n",
              "      .colab-df-generate:hover {\n",
              "        background-color: #E2EBFA;\n",
              "        box-shadow: 0px 1px 2px rgba(60, 64, 67, 0.3), 0px 1px 3px 1px rgba(60, 64, 67, 0.15);\n",
              "        fill: #174EA6;\n",
              "      }\n",
              "\n",
              "      [theme=dark] .colab-df-generate {\n",
              "        background-color: #3B4455;\n",
              "        fill: #D2E3FC;\n",
              "      }\n",
              "\n",
              "      [theme=dark] .colab-df-generate:hover {\n",
              "        background-color: #434B5C;\n",
              "        box-shadow: 0px 1px 3px 1px rgba(0, 0, 0, 0.15);\n",
              "        filter: drop-shadow(0px 1px 2px rgba(0, 0, 0, 0.3));\n",
              "        fill: #FFFFFF;\n",
              "      }\n",
              "    </style>\n",
              "    <button class=\"colab-df-generate\" onclick=\"generateWithVariable('df')\"\n",
              "            title=\"Generate code using this dataframe.\"\n",
              "            style=\"display:none;\">\n",
              "\n",
              "  <svg xmlns=\"http://www.w3.org/2000/svg\" height=\"24px\"viewBox=\"0 0 24 24\"\n",
              "       width=\"24px\">\n",
              "    <path d=\"M7,19H8.4L18.45,9,17,7.55,7,17.6ZM5,21V16.75L18.45,3.32a2,2,0,0,1,2.83,0l1.4,1.43a1.91,1.91,0,0,1,.58,1.4,1.91,1.91,0,0,1-.58,1.4L9.25,21ZM18.45,9,17,7.55Zm-12,3A5.31,5.31,0,0,0,4.9,8.1,5.31,5.31,0,0,0,1,6.5,5.31,5.31,0,0,0,4.9,4.9,5.31,5.31,0,0,0,6.5,1,5.31,5.31,0,0,0,8.1,4.9,5.31,5.31,0,0,0,12,6.5,5.46,5.46,0,0,0,6.5,12Z\"/>\n",
              "  </svg>\n",
              "    </button>\n",
              "    <script>\n",
              "      (() => {\n",
              "      const buttonEl =\n",
              "        document.querySelector('#id_2e3d0621-f5a2-4735-8fd4-fdef5a1fbe45 button.colab-df-generate');\n",
              "      buttonEl.style.display =\n",
              "        google.colab.kernel.accessAllowed ? 'block' : 'none';\n",
              "\n",
              "      buttonEl.onclick = () => {\n",
              "        google.colab.notebook.generateWithVariable('df');\n",
              "      }\n",
              "      })();\n",
              "    </script>\n",
              "  </div>\n",
              "\n",
              "    </div>\n",
              "  </div>\n"
            ]
          },
          "metadata": {},
          "execution_count": 3
        }
      ]
    },
    {
      "cell_type": "markdown",
      "source": [
        "Analysis Questions :\n",
        "    \n",
        "What is the overall revenue for the entire dataset?\n",
        "\n",
        "How does the revenue vary over the years?\n",
        "\n",
        "What is the average quantity sold per month?\n",
        "\n",
        "Can you identify the top-selling product categories?\n",
        "\n",
        "What is the distribution of customer ages in the dataset?\n",
        "\n",
        "How does the average unit cost and unit price vary by product category?\n",
        "\n",
        "What is the total cost and revenue for each product category?\n",
        "\n",
        "Are there any outliers in the quantity sold or unit price?\n",
        "\n",
        "What is the most common product sub-category sold?\n",
        "\n",
        "How does the revenue vary by customer gender?\n",
        "\n",
        "Can you identify the highest revenue-generating states?\n",
        "\n",
        "What is the average quantity sold per product sub-category?\n",
        "\n",
        "How has the sales quantity changed over the years?\n",
        "\n",
        "What is the average unit cost and unit price per state?\n",
        "\n",
        "Can you identify any seasonality in the sales data?\n",
        "\n",
        "What is the total revenue for each country?\n",
        "\n",
        "Are there any correlations between customer age and revenue?\n",
        "\n",
        "How does the quantity sold vary by product category and sub-category?\n",
        "\n",
        "What is the distribution of customer ages by gender?\n",
        "\n",
        "Can you identify any trends in the sales data using a moving average?\n",
        "\n",
        "What is the percentage contribution of each product category to the total revenue?\n",
        "\n",
        "How do unit cost and unit price vary by country?\n",
        "\n",
        "What is the total revenue for each year and month?\n",
        "\n",
        "Can you identify any patterns in customer purchasing behavior?\n",
        "\n",
        "What is the average revenue per customer by state?\n",
        "\n",
        "Are there any significant differences in revenue between countries?\n",
        "\n",
        "How does the unit price impact the quantity sold?\n",
        "\n",
        "Can you identify any outliers in the customer age distribution?\n",
        "\n",
        "What is the average revenue per product category?\n",
        "\n",
        "How does the revenue vary by month and product category?\n",
        "\n",
        "What is the average unit cost and unit price per year?\n",
        "\n",
        "Are there any trends in the sales data based on customer gender?\n",
        "\n",
        "What is the total revenue for each product sub-category?\n",
        "\n",
        "How does the sales quantity correlate with unit price?\n",
        "\n",
        "Can you identify any patterns in customer purchasing over the months?\n",
        "\n",
        "What is the distribution of customer ages in each state?\n",
        "\n",
        "How does the revenue vary by year and state?\n",
        "\n",
        "What is the average revenue per customer by country?\n",
        "\n",
        "Can you identify any outliers in the cost and revenue columns?\n",
        "\n",
        "How has the quantity sold changed over the months?\n",
        "\n",
        "What is the total revenue for each product sub-category and year?\n",
        "\n",
        "How does the average unit price vary by product sub-category?\n",
        "\n",
        "Can you identify any patterns in the sales data using a rolling window?\n",
        "\n",
        "What is the average revenue per customer by product category?\n",
        "\n",
        "How does the sales quantity vary by state and product category?\n",
        "\n",
        "What is the total revenue for each state and product category?\n",
        "\n",
        "Can you identify any correlations between unit cost and unit price?\n",
        "\n",
        "How does the quantity sold vary by year and product category?\n",
        "\n",
        "What is the average unit cost and unit price per month?\n",
        "\n",
        "Can you identify any patterns or anomalies in the 'Column1' column?"
      ],
      "metadata": {
        "id": "i04eexNoBj9q"
      }
    },
    {
      "cell_type": "markdown",
      "source": [
        "What is the overall revenue for the entire dataset?"
      ],
      "metadata": {
        "id": "CdvWdKTzBj9t"
      }
    },
    {
      "cell_type": "code",
      "source": [
        "overall_revenue = df['Revenue'].sum()\n",
        "print(\"Overall Revenue:\", overall_revenue)\n"
      ],
      "metadata": {
        "colab": {
          "base_uri": "https://localhost:8080/"
        },
        "id": "vtSG0NcbDdgg",
        "outputId": "da47059f-08ce-4ed1-aa6c-d8aa7dcd9ad9"
      },
      "execution_count": 4,
      "outputs": [
        {
          "output_type": "stream",
          "name": "stdout",
          "text": [
            "Overall Revenue: 22345217.532095\n"
          ]
        }
      ]
    },
    {
      "cell_type": "markdown",
      "source": [
        "How does the revenue vary over the years?"
      ],
      "metadata": {
        "id": "IHlMxQS3DeC7"
      }
    },
    {
      "cell_type": "code",
      "source": [
        "revenue_by_year = df.groupby('Year')['Revenue'].sum()\n",
        "print(\"Revenue by year\")\n",
        "print(revenue_by_year)"
      ],
      "metadata": {
        "colab": {
          "base_uri": "https://localhost:8080/"
        },
        "id": "cp1k55-dgiNB",
        "outputId": "a939b8aa-3ffc-4502-a9e4-a4029241e85a"
      },
      "execution_count": 6,
      "outputs": [
        {
          "output_type": "stream",
          "name": "stdout",
          "text": [
            "Revenue by year\n",
            "Year\n",
            "2015.0     9947771.0\n",
            "2016.0    12396805.0\n",
            "Name: Revenue, dtype: float64\n"
          ]
        }
      ]
    },
    {
      "cell_type": "markdown",
      "source": [
        "What is the average quantity sold per month?"
      ],
      "metadata": {
        "id": "Q1XsWzRFDiWp"
      }
    },
    {
      "cell_type": "code",
      "source": [
        "average_quantity_per_month = df.groupby('Month')['Quantity'].mean()\n",
        "print(\"Average quantity sold per month:\")\n",
        "print(average_quantity_per_month)"
      ],
      "metadata": {
        "id": "YYqDWdpMDi8s",
        "colab": {
          "base_uri": "https://localhost:8080/"
        },
        "outputId": "c0a32c6f-af5a-4c44-879b-e85db38137ee"
      },
      "execution_count": 7,
      "outputs": [
        {
          "output_type": "stream",
          "name": "stdout",
          "text": [
            "Average quantity sold per month:\n",
            "Month\n",
            "April        2.005787\n",
            "August       2.020399\n",
            "December     1.990627\n",
            "February     2.027710\n",
            "January      1.983488\n",
            "July         2.005418\n",
            "June         1.995109\n",
            "March        2.007924\n",
            "May          1.988847\n",
            "November     1.999598\n",
            "October      2.017619\n",
            "September    2.000000\n",
            "Name: Quantity, dtype: float64\n"
          ]
        }
      ]
    },
    {
      "cell_type": "markdown",
      "source": [
        "Can you identify the top-selling product categories?"
      ],
      "metadata": {
        "id": "lF3IxZKiDjqO"
      }
    },
    {
      "cell_type": "code",
      "source": [
        "top_selling_categories = df.groupby('Product Category')['Quantity'].sum().sort_values(ascending=False)\n",
        "print(\"Top-selling product categories:\")\n",
        "print(top_selling_categories)"
      ],
      "metadata": {
        "id": "_gsAh9MGDkDO",
        "colab": {
          "base_uri": "https://localhost:8080/"
        },
        "outputId": "0cd1d51b-ce03-4062-9b7d-86a5cf5ec894"
      },
      "execution_count": 8,
      "outputs": [
        {
          "output_type": "stream",
          "name": "stdout",
          "text": [
            "Top-selling product categories:\n",
            "Product Category\n",
            "Accessories    45048.0\n",
            "Bikes          14291.0\n",
            "Clothing       10481.0\n",
            "Name: Quantity, dtype: float64\n"
          ]
        }
      ]
    },
    {
      "cell_type": "markdown",
      "source": [
        "What is the distribution of customer ages in the dataset?"
      ],
      "metadata": {
        "id": "76C465RuDkfo"
      }
    },
    {
      "cell_type": "code",
      "source": [
        "customer_age_distribution = df['Customer Age'].value_counts()\n",
        "print(\"Distribution of customer ages:\")\n",
        "print(customer_age_distribution)"
      ],
      "metadata": {
        "id": "p_QGIEWvDk5Z",
        "colab": {
          "base_uri": "https://localhost:8080/"
        },
        "outputId": "b0aa6d8f-364e-4fb3-acdd-301bc4764371"
      },
      "execution_count": 9,
      "outputs": [
        {
          "output_type": "stream",
          "name": "stdout",
          "text": [
            "Distribution of customer ages:\n",
            "31.0    1307\n",
            "28.0    1277\n",
            "34.0    1260\n",
            "29.0    1234\n",
            "30.0    1204\n",
            "        ... \n",
            "87.0       3\n",
            "80.0       3\n",
            "74.0       2\n",
            "76.0       2\n",
            "82.0       2\n",
            "Name: Customer Age, Length: 70, dtype: int64\n"
          ]
        }
      ]
    },
    {
      "cell_type": "markdown",
      "source": [
        "How does the average unit cost and unit price vary by product category?"
      ],
      "metadata": {
        "id": "q3uVxny_DlQD"
      }
    },
    {
      "cell_type": "code",
      "source": [
        "average_unit_cost_by_category = df.groupby('Product Category')['Unit Cost'].mean()\n",
        "average_unit_price_by_category = df.groupby('Product Category')['Unit Price'].mean()\n",
        "print(\"Average unit cost by product category:\")\n",
        "print(average_unit_cost_by_category)\n",
        "print(\"Average unit price by product category:\")\n",
        "print(average_unit_price_by_category)"
      ],
      "metadata": {
        "id": "vte91a8oDmAv",
        "colab": {
          "base_uri": "https://localhost:8080/"
        },
        "outputId": "1b8949aa-befc-4155-c57b-e8a554932852"
      },
      "execution_count": 10,
      "outputs": [
        {
          "output_type": "stream",
          "name": "stdout",
          "text": [
            "Average unit cost by product category:\n",
            "Product Category\n",
            "Accessories    163.208464\n",
            "Bikes          952.947884\n",
            "Clothing       336.311697\n",
            "Name: Unit Cost, dtype: float64\n",
            "Average unit price by product category:\n",
            "Product Category\n",
            "Accessories    200.457368\n",
            "Bikes          981.508224\n",
            "Clothing       399.319654\n",
            "Name: Unit Price, dtype: float64\n"
          ]
        }
      ]
    },
    {
      "cell_type": "markdown",
      "source": [
        "What is the total cost and revenue for each product category?"
      ],
      "metadata": {
        "id": "wWI7olK7DmiE"
      }
    },
    {
      "cell_type": "code",
      "source": [
        "total_cost_revenue_by_category = df.groupby('Product Category').agg({'Cost': 'sum', 'Revenue': 'sum'})\n",
        "print(\"Total cost and revenue by product category:\")\n",
        "print(total_cost_revenue_by_category)\n"
      ],
      "metadata": {
        "id": "XpoMY2CIDm7X",
        "colab": {
          "base_uri": "https://localhost:8080/"
        },
        "outputId": "92bb0339-3598-4738-a837-a064af348466"
      },
      "execution_count": 11,
      "outputs": [
        {
          "output_type": "stream",
          "name": "stdout",
          "text": [
            "Total cost and revenue by product category:\n",
            "                        Cost     Revenue\n",
            "Product Category                        \n",
            "Accessories        6041895.0   7420664.0\n",
            "Bikes             11148754.0  11486355.0\n",
            "Clothing           2892325.0   3437557.0\n"
          ]
        }
      ]
    },
    {
      "cell_type": "markdown",
      "source": [
        "Are there any outliers in the quantity sold or unit price?"
      ],
      "metadata": {
        "id": "eQAa-LH1DnPX"
      }
    },
    {
      "cell_type": "code",
      "source": [
        "from scipy import stats\n",
        "z_scores = np.abs(stats.zscore(df[['Quantity', 'Unit Price']]))\n",
        "outliers = df[(z_scores > 3).any(axis=1)]\n",
        "print(\"Outliers:\")\n",
        "print(outliers)"
      ],
      "metadata": {
        "id": "MzS7_nWvDnwK",
        "colab": {
          "base_uri": "https://localhost:8080/"
        },
        "outputId": "0b7436bd-25b6-4145-e7ff-0a95a9e5d8d1"
      },
      "execution_count": 12,
      "outputs": [
        {
          "output_type": "stream",
          "name": "stdout",
          "text": [
            "Outliers:\n",
            "Empty DataFrame\n",
            "Columns: [index, Date, Year, Month, Customer Age, Customer Gender, Country, State, Product Category, Sub Category, Quantity, Unit Cost, Unit Price, Cost, Revenue, Column1]\n",
            "Index: []\n"
          ]
        }
      ]
    },
    {
      "cell_type": "markdown",
      "source": [
        "What is the most common product sub-category sold?"
      ],
      "metadata": {
        "id": "3JLWvqmUDoD_"
      }
    },
    {
      "cell_type": "code",
      "source": [
        "most_common_sub_category = df['Sub Category'].mode()[0]\n",
        "print(\"Most common product sub-category sold:\", most_common_sub_category)\n"
      ],
      "metadata": {
        "id": "qZY3XtekDopu",
        "colab": {
          "base_uri": "https://localhost:8080/"
        },
        "outputId": "5d6f4fd5-55da-4cb5-abeb-8d3e231b76fb"
      },
      "execution_count": 13,
      "outputs": [
        {
          "output_type": "stream",
          "name": "stdout",
          "text": [
            "Most common product sub-category sold: Tires and Tubes\n"
          ]
        }
      ]
    },
    {
      "cell_type": "markdown",
      "source": [
        "How does the revenue vary by customer gender?"
      ],
      "metadata": {
        "id": "OPkIfSsMDpB7"
      }
    },
    {
      "cell_type": "code",
      "source": [
        "revenue_by_gender = df.groupby('Customer Gender')['Revenue'].sum()\n",
        "print(\"Revenue by customer gender:\")\n",
        "print(revenue_by_gender)\n"
      ],
      "metadata": {
        "id": "fAQjJEXaDpcP",
        "colab": {
          "base_uri": "https://localhost:8080/"
        },
        "outputId": "18302d70-ebf4-4eb0-b985-006d1a4f157f"
      },
      "execution_count": 14,
      "outputs": [
        {
          "output_type": "stream",
          "name": "stdout",
          "text": [
            "Revenue by customer gender:\n",
            "Customer Gender\n",
            "F    10932634.0\n",
            "M    11411942.0\n",
            "Name: Revenue, dtype: float64\n"
          ]
        }
      ]
    },
    {
      "cell_type": "markdown",
      "source": [
        "Can you identify the highest revenue-generating states?"
      ],
      "metadata": {
        "id": "IoVat8uIDpy5"
      }
    },
    {
      "cell_type": "code",
      "source": [
        "highest_revenue_states = df.groupby('State')['Revenue'].sum().sort_values(ascending=False)\n",
        "print(\"Highest revenue-generating states:\")\n",
        "print(highest_revenue_states)"
      ],
      "metadata": {
        "id": "4MYl1lVTDqMq",
        "colab": {
          "base_uri": "https://localhost:8080/"
        },
        "outputId": "28616378-38cd-4e88-b9c1-e2f67c70cbc6"
      },
      "execution_count": 15,
      "outputs": [
        {
          "output_type": "stream",
          "name": "stdout",
          "text": [
            "Highest revenue-generating states:\n",
            "State\n",
            "California             6076916.0\n",
            "England                4276220.0\n",
            "Washington             2873511.0\n",
            "Oregon                 1383186.0\n",
            "Saarland               1055844.0\n",
            "Nordrhein-Westfalen     931677.0\n",
            "Hessen                  917107.0\n",
            "Seine (Paris)           719148.0\n",
            "Hamburg                 714036.0\n",
            "Bayern                  537408.0\n",
            "Seine Saint Denis       520378.0\n",
            "Nord                    512872.0\n",
            "Hauts de Seine          350065.0\n",
            "Essonne                 337567.0\n",
            "Yveline                 316550.0\n",
            "Seine et Marne          132927.0\n",
            "Moselle                 120770.0\n",
            "Loiret                  118555.0\n",
            "Brandenburg              88438.0\n",
            "Val d'Oise               76242.0\n",
            "Garonne (Haute)          69687.0\n",
            "Val de Marne             42815.0\n",
            "Charente-Maritime        37867.0\n",
            "Somme                    36036.0\n",
            "Loir et Cher             31587.0\n",
            "Pas de Calais            23038.0\n",
            "Ohio                      7596.0\n",
            "Illinois                  5029.0\n",
            "Texas                     4004.0\n",
            "Florida                   3561.0\n",
            "New York                  3554.0\n",
            "Utah                      2764.0\n",
            "Wyoming                   2314.0\n",
            "Minnesota                 2161.0\n",
            "Mississippi               2038.0\n",
            "Arizona                   2020.0\n",
            "Massachusetts             1975.0\n",
            "Kentucky                  1747.0\n",
            "Montana                   1479.0\n",
            "Alabama                   1214.0\n",
            "Virginia                   932.0\n",
            "Missouri                   767.0\n",
            "South Carolina             640.0\n",
            "Georgia                    204.0\n",
            "North Carolina             130.0\n",
            "Name: Revenue, dtype: float64\n"
          ]
        }
      ]
    },
    {
      "cell_type": "markdown",
      "source": [
        "What is the average quantity sold per product sub-category?"
      ],
      "metadata": {
        "id": "5rKgpVs_Dq3X"
      }
    },
    {
      "cell_type": "code",
      "source": [
        "average_quantity_per_sub_category = df.groupby('Sub Category')['Quantity'].mean()\n",
        "print(\"Average quantity sold per product sub-category:\")\n",
        "print(average_quantity_per_sub_category)"
      ],
      "metadata": {
        "id": "BGgJ8uTQDrP1",
        "colab": {
          "base_uri": "https://localhost:8080/"
        },
        "outputId": "766a13cb-fcce-4e59-d416-dad476efd522"
      },
      "execution_count": 16,
      "outputs": [
        {
          "output_type": "stream",
          "name": "stdout",
          "text": [
            "Average quantity sold per product sub-category:\n",
            "Sub Category\n",
            "Bike Racks           1.980583\n",
            "Bike Stands          2.096552\n",
            "Bottles and Cages    1.993957\n",
            "Caps                 1.990771\n",
            "Cleaners             2.022018\n",
            "Fenders              1.960630\n",
            "Gloves               1.902083\n",
            "Helmets              2.008381\n",
            "Hydration Packs      1.984848\n",
            "Jerseys              2.016500\n",
            "Mountain Bikes       2.009134\n",
            "Road Bikes           2.024818\n",
            "Shorts               1.994700\n",
            "Socks                2.060440\n",
            "Tires and Tubes      1.999010\n",
            "Touring Bikes        2.003748\n",
            "Vests                2.038462\n",
            "Name: Quantity, dtype: float64\n"
          ]
        }
      ]
    },
    {
      "cell_type": "markdown",
      "source": [
        "How has the sales quantity changed over the years?"
      ],
      "metadata": {
        "id": "CsOcCmAjDruE"
      }
    },
    {
      "cell_type": "code",
      "source": [
        "sales_quantity_by_year = df.groupby('Year')['Quantity'].sum()\n",
        "print(\"Sales quantity by year:\")\n",
        "print(sales_quantity_by_year)"
      ],
      "metadata": {
        "id": "_uwSA5MVDsTj",
        "colab": {
          "base_uri": "https://localhost:8080/"
        },
        "outputId": "1746e7cd-63da-4ff8-e902-22468b10b489"
      },
      "execution_count": 17,
      "outputs": [
        {
          "output_type": "stream",
          "name": "stdout",
          "text": [
            "Sales quantity by year:\n",
            "Year\n",
            "2015.0    30063.0\n",
            "2016.0    39757.0\n",
            "Name: Quantity, dtype: float64\n"
          ]
        }
      ]
    },
    {
      "cell_type": "markdown",
      "source": [
        "What is the average unit cost and unit price per state?"
      ],
      "metadata": {
        "id": "JOBvB7sNDssT"
      }
    },
    {
      "cell_type": "code",
      "source": [
        "average_unit_cost_by_state = df.groupby('State')['Unit Cost'].mean()\n",
        "average_unit_price_by_state = df.groupby('State')['Unit Price'].mean()\n",
        "print(\"Average unit cost by state:\")\n",
        "print(average_unit_cost_by_state)\n",
        "print(\"Average unit price by state:\")\n",
        "print(average_unit_price_by_state)"
      ],
      "metadata": {
        "id": "aSEAAvXvDtVs",
        "colab": {
          "base_uri": "https://localhost:8080/"
        },
        "outputId": "eadc5464-bb22-4a5e-9d3a-dc5128f16fca"
      },
      "execution_count": 18,
      "outputs": [
        {
          "output_type": "stream",
          "name": "stdout",
          "text": [
            "Average unit cost by state:\n",
            "State\n",
            "Alabama                 167.000000\n",
            "Arizona                 361.415000\n",
            "Bayern                  372.962874\n",
            "Brandenburg             418.319043\n",
            "California              333.655897\n",
            "Charente-Maritime       345.552143\n",
            "England                 371.717679\n",
            "Essonne                 412.180237\n",
            "Florida                 218.761429\n",
            "Garonne (Haute)         417.605100\n",
            "Georgia                  43.750000\n",
            "Hamburg                 392.332117\n",
            "Hauts de Seine          391.307682\n",
            "Hessen                  385.012959\n",
            "Illinois                161.000000\n",
            "Kentucky                319.500000\n",
            "Loir et Cher            284.038070\n",
            "Loiret                  369.733034\n",
            "Massachusetts          1024.500000\n",
            "Minnesota               481.890000\n",
            "Mississippi             661.250000\n",
            "Missouri                332.500000\n",
            "Montana                 538.750000\n",
            "Moselle                 394.909558\n",
            "New York                172.833000\n",
            "Nord                    363.680356\n",
            "Nordrhein-Westfalen     384.783228\n",
            "North Carolina           46.500000\n",
            "Ohio                    437.026154\n",
            "Oregon                  322.233520\n",
            "Pas de Calais           272.095238\n",
            "Saarland                391.704188\n",
            "Seine (Paris)           371.028919\n",
            "Seine Saint Denis       357.443794\n",
            "Seine et Marne          421.703005\n",
            "Somme                   366.590164\n",
            "South Carolina           59.234000\n",
            "Texas                   157.868571\n",
            "Utah                    342.500000\n",
            "Val d'Oise              293.284462\n",
            "Val de Marne            334.524667\n",
            "Virginia                149.165000\n",
            "Washington              308.386626\n",
            "Wyoming                 318.110000\n",
            "Yveline                 395.480611\n",
            "Name: Unit Cost, dtype: float64\n",
            "Average unit price by state:\n",
            "State\n",
            "Alabama                202.333334\n",
            "Arizona                342.583333\n",
            "Bayern                 486.928643\n",
            "Brandenburg            541.757092\n",
            "California             357.182169\n",
            "Charente-Maritime      322.104762\n",
            "England                402.691663\n",
            "Essonne                450.159857\n",
            "Florida                224.309524\n",
            "Garonne (Haute)        459.171667\n",
            "Georgia                 51.000000\n",
            "Hamburg                499.571922\n",
            "Hauts de Seine         424.365095\n",
            "Hessen                 498.446193\n",
            "Illinois               167.523809\n",
            "Kentucky               382.250000\n",
            "Loir et Cher           315.710526\n",
            "Loiret                 402.200375\n",
            "Massachusetts          987.500000\n",
            "Minnesota              561.888889\n",
            "Mississippi            739.250000\n",
            "Missouri               383.500000\n",
            "Montana                589.500000\n",
            "Moselle                434.177716\n",
            "New York               196.533333\n",
            "Nord                   386.720669\n",
            "Nordrhein-Westfalen    499.608027\n",
            "North Carolina          51.666666\n",
            "Ohio                   485.884615\n",
            "Oregon                 345.987599\n",
            "Pas de Calais          315.611111\n",
            "Saarland               505.783605\n",
            "Seine (Paris)          400.459096\n",
            "Seine Saint Denis      386.085008\n",
            "Seine et Marne         456.628415\n",
            "Somme                  387.890710\n",
            "South Carolina          75.133333\n",
            "Texas                  178.773809\n",
            "Utah                   358.000000\n",
            "Val d'Oise             324.029487\n",
            "Val de Marne           364.980000\n",
            "Virginia               180.666666\n",
            "Washington             332.299321\n",
            "Wyoming                306.000000\n",
            "Yveline                432.447964\n",
            "Name: Unit Price, dtype: float64\n"
          ]
        }
      ]
    },
    {
      "cell_type": "markdown",
      "source": [
        "Can you identify any seasonality in the sales data?"
      ],
      "metadata": {
        "id": "DZ9ytdVDDtr0"
      }
    },
    {
      "cell_type": "code",
      "source": [
        "monthly_sales = df.groupby('Month')['Quantity'].sum()\n",
        "print(\"Monthly sales:\")\n",
        "print(monthly_sales)"
      ],
      "metadata": {
        "id": "uJZbm6vFDuF5",
        "colab": {
          "base_uri": "https://localhost:8080/"
        },
        "outputId": "62490107-01c2-43eb-85a0-640713bbb57a"
      },
      "execution_count": 19,
      "outputs": [
        {
          "output_type": "stream",
          "name": "stdout",
          "text": [
            "Monthly sales:\n",
            "Month\n",
            "April        6585.0\n",
            "August       4655.0\n",
            "December     6796.0\n",
            "February     5854.0\n",
            "January      5766.0\n",
            "July         4442.0\n",
            "June         7342.0\n",
            "March        6335.0\n",
            "May          7311.0\n",
            "November     4975.0\n",
            "October      5153.0\n",
            "September    4606.0\n",
            "Name: Quantity, dtype: float64\n"
          ]
        }
      ]
    },
    {
      "cell_type": "markdown",
      "source": [
        "What is the total revenue for each country?"
      ],
      "metadata": {
        "id": "iQZqsnm_Dube"
      }
    },
    {
      "cell_type": "code",
      "source": [
        "total_revenue_by_country = df.groupby('Country')['Revenue'].sum()\n",
        "print(\"Total revenue by country:\")\n",
        "print(total_revenue_by_country)"
      ],
      "metadata": {
        "id": "vqZJvtTKDu45",
        "colab": {
          "base_uri": "https://localhost:8080/"
        },
        "outputId": "e73abbbc-1f25-457d-b588-57c129f7fa33"
      },
      "execution_count": 20,
      "outputs": [
        {
          "output_type": "stream",
          "name": "stdout",
          "text": [
            "Total revenue by country:\n",
            "Country\n",
            "France             3446104.0\n",
            "Germany            4244510.0\n",
            "United Kingdom     4276220.0\n",
            "United States     10377742.0\n",
            "Name: Revenue, dtype: float64\n"
          ]
        }
      ]
    },
    {
      "cell_type": "markdown",
      "source": [
        "Are there any correlations between customer age and revenue?"
      ],
      "metadata": {
        "id": "lCAzbKCRDvRY"
      }
    },
    {
      "cell_type": "code",
      "source": [
        "correlation_age_revenue = df['Customer Age'].corr(df['Revenue'])\n",
        "print(\"Correlation between customer age and revenue:\", correlation_age_revenue)\n"
      ],
      "metadata": {
        "id": "EHJWrEtIDv7S",
        "colab": {
          "base_uri": "https://localhost:8080/"
        },
        "outputId": "8119420c-6837-4431-a177-7baeba0b6ec6"
      },
      "execution_count": 21,
      "outputs": [
        {
          "output_type": "stream",
          "name": "stdout",
          "text": [
            "Correlation between customer age and revenue: 0.024836408877530563\n"
          ]
        }
      ]
    },
    {
      "cell_type": "markdown",
      "source": [
        "How does the quantity sold vary by product category and sub-category?"
      ],
      "metadata": {
        "id": "71WOLFrODwXb"
      }
    },
    {
      "cell_type": "code",
      "source": [
        "quantity_sold_category_sub_category = df.groupby(['Product Category', 'Sub Category'])['Quantity'].sum()\n",
        "print(\"Quantity sold by product category and sub-category:\")\n",
        "print(quantity_sold_category_sub_category)"
      ],
      "metadata": {
        "id": "DPxdeRqzDwzS",
        "colab": {
          "base_uri": "https://localhost:8080/"
        },
        "outputId": "3ff1cfd8-a6f3-4f1c-ccfa-72644d727c17"
      },
      "execution_count": 22,
      "outputs": [
        {
          "output_type": "stream",
          "name": "stdout",
          "text": [
            "Quantity sold by product category and sub-category:\n",
            "Product Category  Sub Category     \n",
            "Accessories       Bike Racks             204.0\n",
            "                  Bike Stands            304.0\n",
            "                  Bottles and Cages    10558.0\n",
            "                  Cleaners              1102.0\n",
            "                  Fenders               1494.0\n",
            "                  Helmets               8387.0\n",
            "                  Hydration Packs        786.0\n",
            "                  Tires and Tubes      22213.0\n",
            "Bikes             Mountain Bikes        5499.0\n",
            "                  Road Bikes            6119.0\n",
            "                  Touring Bikes         2673.0\n",
            "Clothing          Caps                  3020.0\n",
            "                  Gloves                 913.0\n",
            "                  Jerseys               4033.0\n",
            "                  Shorts                1129.0\n",
            "                  Socks                  750.0\n",
            "                  Vests                  636.0\n",
            "Name: Quantity, dtype: float64\n"
          ]
        }
      ]
    },
    {
      "cell_type": "markdown",
      "source": [
        "What is the distribution of customer ages by gender?"
      ],
      "metadata": {
        "id": "RM2V3tuXDxIG"
      }
    },
    {
      "cell_type": "code",
      "source": [
        "customer_age_distribution_by_gender = df.groupby('Customer Gender')['Customer Age'].value_counts()\n",
        "print(\"Distribution of customer ages by gender:\")\n",
        "print(customer_age_distribution_by_gender)"
      ],
      "metadata": {
        "id": "aQ2PdiY2Dxgl",
        "colab": {
          "base_uri": "https://localhost:8080/"
        },
        "outputId": "b9c55ce5-2c2f-4cdb-d247-73c90768caf5"
      },
      "execution_count": 23,
      "outputs": [
        {
          "output_type": "stream",
          "name": "stdout",
          "text": [
            "Distribution of customer ages by gender:\n",
            "Customer Gender  Customer Age\n",
            "F                31.0            645\n",
            "                 29.0            634\n",
            "                 33.0            620\n",
            "                 28.0            609\n",
            "                 30.0            591\n",
            "                                ... \n",
            "M                74.0              2\n",
            "                 76.0              2\n",
            "                 81.0              2\n",
            "                 84.0              2\n",
            "                 86.0              2\n",
            "Name: Customer Age, Length: 132, dtype: int64\n"
          ]
        }
      ]
    },
    {
      "cell_type": "markdown",
      "source": [
        "Can you identify any trends in the sales data using a moving average?"
      ],
      "metadata": {
        "id": "A_fujv_tDx1a"
      }
    },
    {
      "cell_type": "code",
      "source": [
        "df['Moving Average'] = df['Revenue'].rolling(window=3).mean()\n",
        "print(\"Trend in sales data using moving average:\")\n",
        "print(df[['Revenue', 'Moving Average']])"
      ],
      "metadata": {
        "id": "KCHAoux9DyeC",
        "colab": {
          "base_uri": "https://localhost:8080/"
        },
        "outputId": "93227e0c-3284-4c68-9443-309b3f4df074"
      },
      "execution_count": 24,
      "outputs": [
        {
          "output_type": "stream",
          "name": "stdout",
          "text": [
            "Trend in sales data using moving average:\n",
            "           Revenue  Moving Average\n",
            "0       109.000000             NaN\n",
            "1        57.000000             NaN\n",
            "2        15.000000       60.333333\n",
            "3       233.000000      101.666667\n",
            "4       125.000000      124.333333\n",
            "...            ...             ...\n",
            "34862  1971.000000     1510.000000\n",
            "34863  1583.000000     1680.333333\n",
            "34864  1682.000000     1745.333333\n",
            "34865  1568.000000     1611.000000\n",
            "34866   641.532095     1297.177365\n",
            "\n",
            "[34867 rows x 2 columns]\n"
          ]
        }
      ]
    },
    {
      "cell_type": "markdown",
      "source": [
        "What is the percentage contribution of each product category to the total revenue?"
      ],
      "metadata": {
        "id": "LbiC2Xi8Dyy3"
      }
    },
    {
      "cell_type": "code",
      "source": [
        "percentage_contribution = (df.groupby('Product Category')['Revenue'].sum() / df['Revenue'].sum()) * 100\n",
        "print(\"Percentage contribution of each product category to total revenue:\")\n",
        "print(percentage_contribution)"
      ],
      "metadata": {
        "id": "cp3TK2QqDzNK",
        "colab": {
          "base_uri": "https://localhost:8080/"
        },
        "outputId": "85e758d3-c7e7-4d8f-bf78-e711692abc1c"
      },
      "execution_count": 25,
      "outputs": [
        {
          "output_type": "stream",
          "name": "stdout",
          "text": [
            "Percentage contribution of each product category to total revenue:\n",
            "Product Category\n",
            "Accessories    33.209182\n",
            "Bikes          51.404087\n",
            "Clothing       15.383860\n",
            "Name: Revenue, dtype: float64\n"
          ]
        }
      ]
    },
    {
      "cell_type": "markdown",
      "source": [
        "How do unit cost and unit price vary by country?"
      ],
      "metadata": {
        "id": "fZntHyQdDzhe"
      }
    },
    {
      "cell_type": "code",
      "source": [
        "average_unit_cost_by_country = df.groupby('Country')['Unit Cost'].mean()\n",
        "average_unit_price_by_country = df.groupby('Country')['Unit Price'].mean()\n",
        "print(\"Average unit cost by country:\")\n",
        "print(average_unit_cost_by_country)\n",
        "print(\"Average unit price by country:\")\n",
        "print(average_unit_price_by_country)"
      ],
      "metadata": {
        "id": "k9w9W8VPDz8j"
      },
      "execution_count": null,
      "outputs": []
    },
    {
      "cell_type": "markdown",
      "source": [
        "What is the total revenue for each year and month?"
      ],
      "metadata": {
        "id": "R-VwGBfRD0uC"
      }
    },
    {
      "cell_type": "code",
      "source": [
        "total_revenue_year_month = df.groupby(['Year', 'Month'])['Revenue'].sum()\n",
        "print(\"Total revenue for each year and month:\")\n",
        "print(total_revenue_year_month)"
      ],
      "metadata": {
        "id": "f5dbNzT6D1I2",
        "colab": {
          "base_uri": "https://localhost:8080/"
        },
        "outputId": "a28e5269-86d3-4f86-a2f5-1464740207ca"
      },
      "execution_count": 26,
      "outputs": [
        {
          "output_type": "stream",
          "name": "stdout",
          "text": [
            "Total revenue for each year and month:\n",
            "Year    Month    \n",
            "2015.0  April         284143.0\n",
            "        August       1248185.0\n",
            "        December     2116097.0\n",
            "        February      259857.0\n",
            "        January       230549.0\n",
            "        July          789054.0\n",
            "        June          337756.0\n",
            "        March         250358.0\n",
            "        May           320629.0\n",
            "        November     1438928.0\n",
            "        October      1376969.0\n",
            "        September    1295246.0\n",
            "2016.0  April        1916347.0\n",
            "        February     1734376.0\n",
            "        January      1720072.0\n",
            "        July          491612.0\n",
            "        June         2344229.0\n",
            "        March        1884978.0\n",
            "        May          2305191.0\n",
            "Name: Revenue, dtype: float64\n"
          ]
        }
      ]
    },
    {
      "cell_type": "markdown",
      "source": [
        "Can you identify any patterns in customer purchasing behavior?"
      ],
      "metadata": {
        "id": "B4mF3svqD1jr"
      }
    },
    {
      "cell_type": "code",
      "source": [
        "repeat_purchases = df.groupby('Customer Age').filter(lambda x: len(x) > 1)\n",
        "print(\"Patterns in customer purchasing behavior (repeat purchases):\")\n",
        "print(repeat_purchases)"
      ],
      "metadata": {
        "id": "pTiWhVybD187",
        "colab": {
          "base_uri": "https://localhost:8080/"
        },
        "outputId": "7d52d4b3-bd42-4df9-e23b-e0366e135b1d"
      },
      "execution_count": 27,
      "outputs": [
        {
          "output_type": "stream",
          "name": "stdout",
          "text": [
            "Patterns in customer purchasing behavior (repeat purchases):\n",
            "       index       Date    Year     Month  Customer Age Customer Gender  \\\n",
            "0          0  2/19/2016  2016.0  February          29.0               F   \n",
            "1          1  2/20/2016  2016.0  February          29.0               F   \n",
            "2          2  2/27/2016  2016.0  February          29.0               F   \n",
            "3          3  3/12/2016  2016.0     March          29.0               F   \n",
            "4          4  3/12/2016  2016.0     March          29.0               F   \n",
            "...      ...        ...     ...       ...           ...             ...   \n",
            "34861  34861  3/22/2015  2015.0     March          38.0               M   \n",
            "34862  34862   2/7/2016  2016.0  February          38.0               M   \n",
            "34863  34863  3/13/2015  2015.0     March          38.0               M   \n",
            "34864  34864   4/5/2015  2015.0     April          38.0               M   \n",
            "34865  34865  8/30/2015  2015.0    August          38.0               M   \n",
            "\n",
            "             Country              State Product Category     Sub Category  \\\n",
            "0      United States         Washington      Accessories  Tires and Tubes   \n",
            "1      United States         Washington         Clothing           Gloves   \n",
            "2      United States         Washington      Accessories  Tires and Tubes   \n",
            "3      United States         Washington      Accessories  Tires and Tubes   \n",
            "4      United States         Washington      Accessories  Tires and Tubes   \n",
            "...              ...                ...              ...              ...   \n",
            "34861         France  Charente-Maritime            Bikes   Mountain Bikes   \n",
            "34862         France     Hauts de Seine            Bikes   Mountain Bikes   \n",
            "34863         France     Hauts de Seine            Bikes   Mountain Bikes   \n",
            "34864         France     Hauts de Seine            Bikes   Mountain Bikes   \n",
            "34865         France     Hauts de Seine            Bikes   Mountain Bikes   \n",
            "\n",
            "       Quantity  Unit Cost   Unit Price    Cost  Revenue  Column1  \\\n",
            "0           1.0      80.00   109.000000    80.0    109.0      NaN   \n",
            "1           2.0      24.50    28.500000    49.0     57.0      NaN   \n",
            "2           3.0       3.67     5.000000    11.0     15.0      NaN   \n",
            "3           2.0      87.50   116.500000   175.0    233.0      NaN   \n",
            "4           3.0      35.00    41.666667   105.0    125.0      NaN   \n",
            "...         ...        ...          ...     ...      ...      ...   \n",
            "34861       1.0    2049.00  1487.000000  2049.0   1487.0      NaN   \n",
            "34862       2.0    1160.00   985.500000  2320.0   1971.0      NaN   \n",
            "34863       1.0    2049.00  1583.000000  2049.0   1583.0      NaN   \n",
            "34864       3.0     683.00   560.666667  2049.0   1682.0      NaN   \n",
            "34865       1.0    2320.00  1568.000000  2320.0   1568.0      NaN   \n",
            "\n",
            "       Moving Average  \n",
            "0                 NaN  \n",
            "1                 NaN  \n",
            "2           60.333333  \n",
            "3          101.666667  \n",
            "4          124.333333  \n",
            "...               ...  \n",
            "34861     1627.666667  \n",
            "34862     1510.000000  \n",
            "34863     1680.333333  \n",
            "34864     1745.333333  \n",
            "34865     1611.000000  \n",
            "\n",
            "[34866 rows x 17 columns]\n"
          ]
        }
      ]
    },
    {
      "cell_type": "markdown",
      "source": [
        "What is the average revenue per customer by state?"
      ],
      "metadata": {
        "id": "Z4P5sgcOD2Sj"
      }
    },
    {
      "cell_type": "code",
      "source": [
        "average_revenue_per_customer_state = df.groupby('State')['Revenue'].mean()\n",
        "print(\"Average revenue per customer by state:\")\n",
        "print(average_revenue_per_customer_state)"
      ],
      "metadata": {
        "id": "kE6KzkI8D3LT",
        "colab": {
          "base_uri": "https://localhost:8080/"
        },
        "outputId": "9f116dc2-e30f-4298-c905-c09bed29db02"
      },
      "execution_count": 28,
      "outputs": [
        {
          "output_type": "stream",
          "name": "stdout",
          "text": [
            "Average revenue per customer by state:\n",
            "State\n",
            "Alabama                 607.000000\n",
            "Arizona                1010.000000\n",
            "Bayern                  804.502994\n",
            "Brandenburg             940.829787\n",
            "California              588.164537\n",
            "Charente-Maritime       540.957143\n",
            "England                 665.974147\n",
            "Essonne                 725.950538\n",
            "Florida                 508.714286\n",
            "Garonne (Haute)         696.870000\n",
            "Georgia                 102.000000\n",
            "Hamburg                 821.675489\n",
            "Hauts de Seine          687.750491\n",
            "Hessen                  824.736511\n",
            "Illinois                359.214286\n",
            "Kentucky                436.750000\n",
            "Loir et Cher            554.157895\n",
            "Loiret                  666.039326\n",
            "Massachusetts          1975.000000\n",
            "Minnesota               720.333333\n",
            "Mississippi            1019.000000\n",
            "Missouri                767.000000\n",
            "Montana                 739.500000\n",
            "Moselle                 667.237569\n",
            "New York                355.400000\n",
            "Nord                    651.679797\n",
            "Nordrhein-Westfalen     795.625107\n",
            "North Carolina           65.000000\n",
            "Ohio                    584.307692\n",
            "Oregon                  565.488962\n",
            "Pas de Calais           548.523810\n",
            "Saarland                820.391608\n",
            "Seine (Paris)           658.560440\n",
            "Seine Saint Denis       653.741206\n",
            "Seine et Marne          726.377049\n",
            "Somme                   590.754098\n",
            "South Carolina          128.000000\n",
            "Texas                   286.000000\n",
            "Utah                    552.800000\n",
            "Val d'Oise              586.476923\n",
            "Val de Marne            570.866667\n",
            "Virginia                466.000000\n",
            "Washington              552.173520\n",
            "Wyoming                 771.333333\n",
            "Yveline                 716.176471\n",
            "Name: Revenue, dtype: float64\n"
          ]
        }
      ]
    },
    {
      "cell_type": "markdown",
      "source": [
        "Are there any significant differences in revenue between countries?"
      ],
      "metadata": {
        "id": "4t0iIDdbD3dx"
      }
    },
    {
      "cell_type": "code",
      "source": [
        "revenue_by_country = df.groupby('Country')['Revenue'].describe()\n",
        "print(\"Revenue statistics by country:\")\n",
        "print(revenue_by_country)"
      ],
      "metadata": {
        "id": "uKxQ5xCuD3zI",
        "colab": {
          "base_uri": "https://localhost:8080/"
        },
        "outputId": "5b11964e-26d3-40b4-d1d6-3b1105456b03"
      },
      "execution_count": 29,
      "outputs": [
        {
          "output_type": "stream",
          "name": "stdout",
          "text": [
            "Revenue statistics by country:\n",
            "                  count        mean         std  min    25%    50%     75%  \\\n",
            "Country                                                                      \n",
            "France           5168.0  666.815789  758.572276  2.0  102.0  361.0   945.0   \n",
            "Germany          5201.0  816.094982  894.975907  3.0  132.0  462.0  1158.0   \n",
            "United Kingdom   6421.0  665.974147  742.399726  2.0  106.0  355.0   948.0   \n",
            "United States   18076.0  574.117172  665.077542  2.0   94.0  271.5   809.0   \n",
            "\n",
            "                   max  \n",
            "Country                 \n",
            "France          3681.0  \n",
            "Germany         5082.0  \n",
            "United Kingdom  4113.0  \n",
            "United States   4923.0  \n"
          ]
        }
      ]
    },
    {
      "cell_type": "markdown",
      "source": [
        "How does the unit price impact the quantity sold?"
      ],
      "metadata": {
        "id": "psTDiif4D4JB"
      }
    },
    {
      "cell_type": "code",
      "source": [
        "correlation_unit_price_quantity = df['Unit Price'].corr(df['Quantity'])\n",
        "print(\"Correlation between unit price and quantity sold:\", correlation_unit_price_quantity)\n"
      ],
      "metadata": {
        "id": "P6oLMDqID47h",
        "colab": {
          "base_uri": "https://localhost:8080/"
        },
        "outputId": "e4c28599-1ce4-4209-8a77-00d1a94b4418"
      },
      "execution_count": 30,
      "outputs": [
        {
          "output_type": "stream",
          "name": "stdout",
          "text": [
            "Correlation between unit price and quantity sold: -0.324109007166521\n"
          ]
        }
      ]
    },
    {
      "cell_type": "markdown",
      "source": [
        "Can you identify any outliers in the customer age distribution?"
      ],
      "metadata": {
        "id": "XL3plMBJD5RI"
      }
    },
    {
      "cell_type": "code",
      "source": [
        "z_scores_age = np.abs(stats.zscore(df['Customer Age']))\n",
        "outliers_age = df[(z_scores_age > 3)]\n",
        "print(\"Outliers in customer age distribution:\")\n",
        "print(outliers_age)"
      ],
      "metadata": {
        "id": "Tiz0dMQQD56R",
        "colab": {
          "base_uri": "https://localhost:8080/"
        },
        "outputId": "739e81fa-4714-416d-b970-e8a544ff8d4e"
      },
      "execution_count": 31,
      "outputs": [
        {
          "output_type": "stream",
          "name": "stdout",
          "text": [
            "Outliers in customer age distribution:\n",
            "Empty DataFrame\n",
            "Columns: [index, Date, Year, Month, Customer Age, Customer Gender, Country, State, Product Category, Sub Category, Quantity, Unit Cost, Unit Price, Cost, Revenue, Column1, Moving Average]\n",
            "Index: []\n"
          ]
        }
      ]
    },
    {
      "cell_type": "markdown",
      "source": [
        "What is the average revenue per product category?"
      ],
      "metadata": {
        "id": "wXT1vaP3D6Th"
      }
    },
    {
      "cell_type": "code",
      "source": [
        "average_revenue_per_category = df.groupby('Product Category')['Revenue'].mean()\n",
        "print(\"Average revenue per product category:\")\n",
        "print(average_revenue_per_category)"
      ],
      "metadata": {
        "id": "56AktitOD62b",
        "colab": {
          "base_uri": "https://localhost:8080/"
        },
        "outputId": "8e4e62d4-3b84-44de-af3e-9eefbf62a27b"
      },
      "execution_count": 32,
      "outputs": [
        {
          "output_type": "stream",
          "name": "stdout",
          "text": [
            "Average revenue per product category:\n",
            "Product Category\n",
            "Accessories     329.309665\n",
            "Bikes          1619.393064\n",
            "Clothing        656.147547\n",
            "Name: Revenue, dtype: float64\n"
          ]
        }
      ]
    },
    {
      "cell_type": "markdown",
      "source": [
        "How does the revenue vary by month and product category?"
      ],
      "metadata": {
        "id": "BS95YDZ8D7LQ"
      }
    },
    {
      "cell_type": "code",
      "source": [
        "revenue_by_month_category = df.groupby(['Month', 'Product Category'])['Revenue'].sum()\n",
        "print(\"Revenue by month and product category:\")\n",
        "print(revenue_by_month_category)"
      ],
      "metadata": {
        "id": "AsuWwH3BD7ju",
        "colab": {
          "base_uri": "https://localhost:8080/"
        },
        "outputId": "f3485d88-293e-4728-91c0-f732bc875f45"
      },
      "execution_count": 33,
      "outputs": [
        {
          "output_type": "stream",
          "name": "stdout",
          "text": [
            "Revenue by month and product category:\n",
            "Month      Product Category\n",
            "April      Accessories          702555.0\n",
            "           Bikes               1158125.0\n",
            "           Clothing             339810.0\n",
            "August     Accessories          493068.0\n",
            "           Bikes                537102.0\n",
            "           Clothing             218015.0\n",
            "December   Accessories          677084.0\n",
            "           Bikes               1115613.0\n",
            "           Clothing             323400.0\n",
            "February   Accessories          635698.0\n",
            "           Bikes               1090911.0\n",
            "           Clothing             267624.0\n",
            "January    Accessories          641185.0\n",
            "           Bikes               1005004.0\n",
            "           Clothing             304432.0\n",
            "July       Accessories          499945.0\n",
            "           Bikes                564856.0\n",
            "           Clothing             215865.0\n",
            "June       Accessories          779925.0\n",
            "           Bikes               1537564.0\n",
            "           Clothing             364496.0\n",
            "March      Accessories          695842.0\n",
            "           Bikes               1136532.0\n",
            "           Clothing             302962.0\n",
            "May        Accessories          794374.0\n",
            "           Bikes               1477413.0\n",
            "           Clothing             354033.0\n",
            "November   Accessories          503157.0\n",
            "           Bikes                691741.0\n",
            "           Clothing             244030.0\n",
            "October    Accessories          507744.0\n",
            "           Bikes                614888.0\n",
            "           Clothing             254337.0\n",
            "September  Accessories          490087.0\n",
            "           Bikes                556606.0\n",
            "           Clothing             248553.0\n",
            "Name: Revenue, dtype: float64\n"
          ]
        }
      ]
    },
    {
      "cell_type": "markdown",
      "source": [
        "What is the average unit cost and unit price per year?"
      ],
      "metadata": {
        "id": "gntW-3TdD73x"
      }
    },
    {
      "cell_type": "code",
      "source": [
        "average_unit_cost_by_year = df.groupby('Year')['Unit Cost'].mean()\n",
        "average_unit_price_by_year = df.groupby('Year')['Unit Price'].mean()\n",
        "print(\"Average unit cost by year:\")\n",
        "print(average_unit_cost_by_year)\n",
        "print(\"Average unit price by year:\")\n",
        "print(average_unit_price_by_year)"
      ],
      "metadata": {
        "id": "VRTluYpND8a8",
        "colab": {
          "base_uri": "https://localhost:8080/"
        },
        "outputId": "eb63d7d0-563e-4c05-cec0-bb92ef671648"
      },
      "execution_count": 34,
      "outputs": [
        {
          "output_type": "stream",
          "name": "stdout",
          "text": [
            "Average unit cost by year:\n",
            "Year\n",
            "2015.0    391.138796\n",
            "2016.0    318.658854\n",
            "Name: Unit Cost, dtype: float64\n",
            "Average unit price by year:\n",
            "Year\n",
            "2015.0    402.897164\n",
            "2016.0    378.891890\n",
            "Name: Unit Price, dtype: float64\n"
          ]
        }
      ]
    },
    {
      "cell_type": "markdown",
      "source": [
        "Are there any trends in the sales data based on customer gender?"
      ],
      "metadata": {
        "id": "yhLKzSTSD8wy"
      }
    },
    {
      "cell_type": "code",
      "source": [
        "revenue_by_gender_trend = df.groupby(['Year', 'Customer Gender'])['Revenue'].sum()\n",
        "print(\"Trends in sales data based on customer gender:\")\n",
        "print(revenue_by_gender_trend)"
      ],
      "metadata": {
        "id": "7EAYCQ61D9Jz",
        "colab": {
          "base_uri": "https://localhost:8080/"
        },
        "outputId": "6995b047-df4a-4bd2-fec0-e5392b0e66c1"
      },
      "execution_count": 35,
      "outputs": [
        {
          "output_type": "stream",
          "name": "stdout",
          "text": [
            "Trends in sales data based on customer gender:\n",
            "Year    Customer Gender\n",
            "2015.0  F                  5051536.0\n",
            "        M                  4896235.0\n",
            "2016.0  F                  5881098.0\n",
            "        M                  6515707.0\n",
            "Name: Revenue, dtype: float64\n"
          ]
        }
      ]
    },
    {
      "cell_type": "markdown",
      "source": [
        "What is the total revenue for each product sub-category?"
      ],
      "metadata": {
        "id": "ETgJR8SED9gc"
      }
    },
    {
      "cell_type": "code",
      "source": [
        "total_revenue_by_sub_category = df.groupby('Sub Category')['Revenue'].sum()\n",
        "print(\"Total revenue for each product sub-category:\")\n",
        "print(total_revenue_by_sub_category)"
      ],
      "metadata": {
        "id": "4PvxfYLwD-D3",
        "colab": {
          "base_uri": "https://localhost:8080/"
        },
        "outputId": "c99aff9b-cba9-48e4-cfaf-c1a323c36340"
      },
      "execution_count": 36,
      "outputs": [
        {
          "output_type": "stream",
          "name": "stdout",
          "text": [
            "Total revenue for each product sub-category:\n",
            "Sub Category\n",
            "Bike Racks            140854.0\n",
            "Bike Stands           150911.0\n",
            "Bottles and Cages     709407.0\n",
            "Caps                  255992.0\n",
            "Cleaners               82887.0\n",
            "Fenders               329204.0\n",
            "Gloves                228353.0\n",
            "Helmets              2738210.0\n",
            "Hydration Packs       403276.0\n",
            "Jerseys              1834110.0\n",
            "Mountain Bikes       5176456.0\n",
            "Road Bikes           3921989.0\n",
            "Shorts                689184.0\n",
            "Socks                  61237.0\n",
            "Tires and Tubes      2865915.0\n",
            "Touring Bikes        2387910.0\n",
            "Vests                 368681.0\n",
            "Name: Revenue, dtype: float64\n"
          ]
        }
      ]
    },
    {
      "cell_type": "markdown",
      "source": [
        "How does the sales quantity correlate with unit price?"
      ],
      "metadata": {
        "id": "ZqZ6cC5xD-Xp"
      }
    },
    {
      "cell_type": "code",
      "source": [
        "correlation_quantity_unit_price = df['Quantity'].corr(df['Unit Price'])\n",
        "print(\"Correlation between sales quantity and unit price:\", correlation_quantity_unit_price)\n"
      ],
      "metadata": {
        "id": "U20dHL8XD-0k",
        "colab": {
          "base_uri": "https://localhost:8080/"
        },
        "outputId": "850375a4-f765-4dc5-aaca-e791ac5adb10"
      },
      "execution_count": 37,
      "outputs": [
        {
          "output_type": "stream",
          "name": "stdout",
          "text": [
            "Correlation between sales quantity and unit price: -0.32410900716652097\n"
          ]
        }
      ]
    },
    {
      "cell_type": "markdown",
      "source": [
        "Can you identify any patterns in customer purchasing over the months?"
      ],
      "metadata": {
        "id": "wCTai5wqD_K8"
      }
    },
    {
      "cell_type": "code",
      "source": [
        "average_revenue_per_month = df.groupby('Month')['Revenue'].mean()\n",
        "print(\"Patterns in customer purchasing over the months:\")\n",
        "print(average_revenue_per_month)"
      ],
      "metadata": {
        "id": "XKCqHiKiD_7o",
        "colab": {
          "base_uri": "https://localhost:8080/"
        },
        "outputId": "18f6e3b8-72c9-49d2-f99c-5c767fa3a72a"
      },
      "execution_count": 38,
      "outputs": [
        {
          "output_type": "stream",
          "name": "stdout",
          "text": [
            "Patterns in customer purchasing over the months:\n",
            "Month\n",
            "April        670.268048\n",
            "August       541.746962\n",
            "December     619.829233\n",
            "February     690.763076\n",
            "January      671.008256\n",
            "July         578.178781\n",
            "June         728.800272\n",
            "March        676.810143\n",
            "May          714.314472\n",
            "November     578.347267\n",
            "October      539.142130\n",
            "September    562.416848\n",
            "Name: Revenue, dtype: float64\n"
          ]
        }
      ]
    },
    {
      "cell_type": "markdown",
      "source": [
        "What is the distribution of customer ages in each state?"
      ],
      "metadata": {
        "id": "rqhKSvi0EAQu"
      }
    },
    {
      "cell_type": "code",
      "source": [
        "customer_age_distribution_by_state = df.groupby('State')['Customer Age'].value_counts()\n",
        "print(\"Distribution of customer ages in each state:\")\n",
        "print(customer_age_distribution_by_state)\n"
      ],
      "metadata": {
        "id": "uNHHBEzUEAmV",
        "colab": {
          "base_uri": "https://localhost:8080/"
        },
        "outputId": "efe3f0b4-3bfa-45bf-b322-cdbba1dc5ecc"
      },
      "execution_count": 39,
      "outputs": [
        {
          "output_type": "stream",
          "name": "stdout",
          "text": [
            "Distribution of customer ages in each state:\n",
            "State    Customer Age\n",
            "Alabama  40.0             2\n",
            "Arizona  24.0             1\n",
            "         32.0             1\n",
            "Bayern   30.0            41\n",
            "         29.0            34\n",
            "                         ..\n",
            "Yveline  86.0             2\n",
            "         48.0             1\n",
            "         54.0             1\n",
            "         61.0             1\n",
            "         75.0             1\n",
            "Name: Customer Age, Length: 997, dtype: int64\n"
          ]
        }
      ]
    },
    {
      "cell_type": "markdown",
      "source": [
        "How does the revenue vary by year and state?"
      ],
      "metadata": {
        "id": "Grczs8tZEBJg"
      }
    },
    {
      "cell_type": "code",
      "source": [
        "revenue_by_year_state = df.groupby(['Year', 'State'])['Revenue'].sum()\n",
        "print(\"Revenue by year and state:\")\n",
        "print(revenue_by_year_state)"
      ],
      "metadata": {
        "id": "_6GNEmQ2EBix",
        "colab": {
          "base_uri": "https://localhost:8080/"
        },
        "outputId": "9552ff38-591c-40ed-cf56-f876afc4a97b"
      },
      "execution_count": 40,
      "outputs": [
        {
          "output_type": "stream",
          "name": "stdout",
          "text": [
            "Revenue by year and state:\n",
            "Year    State       \n",
            "2015.0  Alabama              59.0\n",
            "        Arizona            2020.0\n",
            "        Bayern           214732.0\n",
            "        Brandenburg       43079.0\n",
            "        California      2807764.0\n",
            "                          ...    \n",
            "2016.0  Val de Marne      25685.0\n",
            "        Virginia            932.0\n",
            "        Washington      1581007.0\n",
            "        Wyoming             140.0\n",
            "        Yveline          200599.0\n",
            "Name: Revenue, Length: 79, dtype: float64\n"
          ]
        }
      ]
    },
    {
      "cell_type": "markdown",
      "source": [
        "What is the average revenue per customer by country?"
      ],
      "metadata": {
        "id": "-MQAmaqMECLY"
      }
    },
    {
      "cell_type": "code",
      "source": [
        "average_revenue_per_customer_country = df.groupby('Country')['Revenue'].mean()\n",
        "print(\"Average revenue per customer by country:\")\n",
        "print(average_revenue_per_customer_country)"
      ],
      "metadata": {
        "id": "IHezum5xECmO",
        "colab": {
          "base_uri": "https://localhost:8080/"
        },
        "outputId": "f57b2878-a58f-40a1-a554-bcb5bf700bb0"
      },
      "execution_count": 41,
      "outputs": [
        {
          "output_type": "stream",
          "name": "stdout",
          "text": [
            "Average revenue per customer by country:\n",
            "Country\n",
            "France            666.815789\n",
            "Germany           816.094982\n",
            "United Kingdom    665.974147\n",
            "United States     574.117172\n",
            "Name: Revenue, dtype: float64\n"
          ]
        }
      ]
    },
    {
      "cell_type": "markdown",
      "source": [
        "Can you identify any outliers in the cost and revenue columns?"
      ],
      "metadata": {
        "id": "z6X_EoolEC9I"
      }
    },
    {
      "cell_type": "code",
      "source": [
        "z_scores_cost_revenue = np.abs(stats.zscore(df[['Cost', 'Revenue']]))\n",
        "outliers_cost_revenue = df[(z_scores_cost_revenue > 3).any(axis=1)]\n",
        "print(\"Outliers in cost and revenue columns:\")\n",
        "print(outliers_cost_revenue)\n"
      ],
      "metadata": {
        "id": "Dt2Fzb18EDe-",
        "colab": {
          "base_uri": "https://localhost:8080/"
        },
        "outputId": "8429cb1c-f7df-4d07-b305-bfcc60aa1901"
      },
      "execution_count": 42,
      "outputs": [
        {
          "output_type": "stream",
          "name": "stdout",
          "text": [
            "Outliers in cost and revenue columns:\n",
            "       index        Date    Year    Month  Customer Age Customer Gender  \\\n",
            "314      314   1/18/2016  2016.0  January          40.0               M   \n",
            "327      327    6/6/2016  2016.0     June          40.0               M   \n",
            "378      378   3/19/2016  2016.0    March          41.0               M   \n",
            "381      381   6/13/2016  2016.0     June          41.0               M   \n",
            "874      874  10/21/2015  2015.0  October          43.0               F   \n",
            "...      ...         ...     ...      ...           ...             ...   \n",
            "33438  33438   5/17/2016  2016.0      May          28.0               F   \n",
            "33583  33583   6/19/2016  2016.0     June          40.0               M   \n",
            "33761  33761    5/7/2016  2016.0      May          24.0               F   \n",
            "33976  33976   1/22/2016  2016.0  January          44.0               F   \n",
            "33979  33979   1/29/2016  2016.0  January          44.0               F   \n",
            "\n",
            "             Country                State Product Category    Sub Category  \\\n",
            "314           France              Yveline            Bikes  Mountain Bikes   \n",
            "327           France              Yveline            Bikes   Touring Bikes   \n",
            "378          Germany               Hessen            Bikes   Touring Bikes   \n",
            "381          Germany               Hessen            Bikes      Road Bikes   \n",
            "874          Germany               Bayern            Bikes      Road Bikes   \n",
            "...              ...                  ...              ...             ...   \n",
            "33438         France       Seine et Marne            Bikes  Mountain Bikes   \n",
            "33583  United States           Washington      Accessories      Bike Racks   \n",
            "33761         France              Essonne            Bikes  Mountain Bikes   \n",
            "33976        Germany  Nordrhein-Westfalen            Bikes      Road Bikes   \n",
            "33979        Germany             Saarland            Bikes      Road Bikes   \n",
            "\n",
            "       Quantity  Unit Cost   Unit Price    Cost  Revenue  Column1  \\\n",
            "314         2.0    1160.00  1511.500000  2320.0   3023.0   3023.0   \n",
            "327         3.0     794.67   983.000000  2384.0   2949.0   2949.0   \n",
            "378         1.0    2384.00  2988.000000  2384.0   2988.0    900.0   \n",
            "381         3.0     814.33  1139.666667  2443.0   3419.0     67.0   \n",
            "874         1.0    2443.00  2927.000000  2443.0   2927.0    819.0   \n",
            "...         ...        ...          ...     ...      ...      ...   \n",
            "33438       2.0    1147.50  1495.000000  2295.0   2990.0      NaN   \n",
            "33583       3.0    1080.00  1405.333333  3240.0   4216.0      NaN   \n",
            "33761       1.0    2295.00  3423.000000  2295.0   3423.0      NaN   \n",
            "33976       2.0    1221.50  1625.500000  2443.0   3251.0      NaN   \n",
            "33979       2.0    1221.50  1591.500000  2443.0   3183.0      NaN   \n",
            "\n",
            "       Moving Average  \n",
            "314       1930.333333  \n",
            "327       1317.666667  \n",
            "378       1370.000000  \n",
            "381       1570.000000  \n",
            "874       1504.000000  \n",
            "...               ...  \n",
            "33438     1739.333333  \n",
            "33583     2253.000000  \n",
            "33761     1826.666667  \n",
            "33976     1181.333333  \n",
            "33979     2646.000000  \n",
            "\n",
            "[374 rows x 17 columns]\n"
          ]
        }
      ]
    },
    {
      "cell_type": "markdown",
      "source": [
        "How has the quantity sold changed over the months?"
      ],
      "metadata": {
        "id": "LHIOexA5ED1H"
      }
    },
    {
      "cell_type": "code",
      "source": [
        "quantity_sold_by_month = df.groupby('Month')['Quantity'].sum()\n",
        "print(\"Quantity sold by month:\")\n",
        "print(quantity_sold_by_month)"
      ],
      "metadata": {
        "id": "-YmX-c4eEEbp",
        "colab": {
          "base_uri": "https://localhost:8080/"
        },
        "outputId": "6c2753a7-1cf3-44c7-d8a5-dea536c02f34"
      },
      "execution_count": 43,
      "outputs": [
        {
          "output_type": "stream",
          "name": "stdout",
          "text": [
            "Quantity sold by month:\n",
            "Month\n",
            "April        6585.0\n",
            "August       4655.0\n",
            "December     6796.0\n",
            "February     5854.0\n",
            "January      5766.0\n",
            "July         4442.0\n",
            "June         7342.0\n",
            "March        6335.0\n",
            "May          7311.0\n",
            "November     4975.0\n",
            "October      5153.0\n",
            "September    4606.0\n",
            "Name: Quantity, dtype: float64\n"
          ]
        }
      ]
    },
    {
      "cell_type": "markdown",
      "source": [
        "What is the total revenue for each product sub-category and year?"
      ],
      "metadata": {
        "id": "FIVN-gRWEE0H"
      }
    },
    {
      "cell_type": "code",
      "source": [
        "total_revenue_sub_category_year = df.groupby(['Sub Category', 'Year'])['Revenue'].sum()\n",
        "print(\"Total revenue for each product sub-category and year:\")\n",
        "print(total_revenue_sub_category_year)"
      ],
      "metadata": {
        "id": "DMLBSUjFEFRz",
        "colab": {
          "base_uri": "https://localhost:8080/"
        },
        "outputId": "2d796f9c-de5e-4a3f-9bcd-b4d6d399eb7d"
      },
      "execution_count": 44,
      "outputs": [
        {
          "output_type": "stream",
          "name": "stdout",
          "text": [
            "Total revenue for each product sub-category and year:\n",
            "Sub Category       Year  \n",
            "Bike Racks         2016.0     140854.0\n",
            "Bike Stands        2015.0      74321.0\n",
            "                   2016.0      76590.0\n",
            "Bottles and Cages  2015.0     269824.0\n",
            "                   2016.0     439583.0\n",
            "Caps               2015.0     100875.0\n",
            "                   2016.0     155117.0\n",
            "Cleaners           2015.0      34343.0\n",
            "                   2016.0      48544.0\n",
            "Fenders            2016.0     329204.0\n",
            "Gloves             2016.0     228353.0\n",
            "Helmets            2015.0    1098413.0\n",
            "                   2016.0    1639797.0\n",
            "Hydration Packs    2015.0     159820.0\n",
            "                   2016.0     243456.0\n",
            "Jerseys            2015.0     756606.0\n",
            "                   2016.0    1077504.0\n",
            "Mountain Bikes     2015.0    2496833.0\n",
            "                   2016.0    2679623.0\n",
            "Road Bikes         2015.0    2318037.0\n",
            "                   2016.0    1603952.0\n",
            "Shorts             2015.0     317510.0\n",
            "                   2016.0     371674.0\n",
            "Socks              2015.0      22770.0\n",
            "                   2016.0      38467.0\n",
            "Tires and Tubes    2015.0    1189046.0\n",
            "                   2016.0    1676869.0\n",
            "Touring Bikes      2015.0     949228.0\n",
            "                   2016.0    1438682.0\n",
            "Vests              2015.0     160145.0\n",
            "                   2016.0     208536.0\n",
            "Name: Revenue, dtype: float64\n"
          ]
        }
      ]
    },
    {
      "cell_type": "markdown",
      "source": [
        "How does the average unit price vary by product sub-category?"
      ],
      "metadata": {
        "id": "IvPJu0-oEFna"
      }
    },
    {
      "cell_type": "code",
      "source": [
        "average_unit_price_by_sub_category = df.groupby('Sub Category')['Unit Price'].mean()\n",
        "print(\"Average unit price by product sub-category:\")\n",
        "print(average_unit_price_by_sub_category)"
      ],
      "metadata": {
        "id": "VYHe5rxmEYh2",
        "colab": {
          "base_uri": "https://localhost:8080/"
        },
        "outputId": "0a9dfb99-f0c7-42ba-e2fc-e4898196f828"
      },
      "execution_count": 45,
      "outputs": [
        {
          "output_type": "stream",
          "name": "stdout",
          "text": [
            "Average unit price by product sub-category:\n",
            "Sub Category\n",
            "Bike Racks            885.839806\n",
            "Bike Stands           612.243678\n",
            "Bottles and Cages      81.944319\n",
            "Caps                  104.151395\n",
            "Cleaners               92.452294\n",
            "Fenders               276.916885\n",
            "Gloves                299.732986\n",
            "Helmets               395.600655\n",
            "Hydration Packs       630.190236\n",
            "Jerseys               553.080333\n",
            "Mountain Bikes       1149.457070\n",
            "Road Bikes            781.171575\n",
            "Shorts                753.058598\n",
            "Socks                  97.614927\n",
            "Tires and Tubes       156.606686\n",
            "Touring Bikes        1090.759620\n",
            "Vests                 712.315705\n",
            "Name: Unit Price, dtype: float64\n"
          ]
        }
      ]
    },
    {
      "cell_type": "markdown",
      "source": [
        "Can you identify any patterns in the sales data using a rolling window?"
      ],
      "metadata": {
        "id": "8ZB3goRqEZST"
      }
    },
    {
      "cell_type": "code",
      "source": [
        "rolling_average_revenue = df['Revenue'].rolling(window=3).mean()\n",
        "print(\"Patterns in the sales data using a rolling window:\")\n",
        "print(rolling_average_revenue)"
      ],
      "metadata": {
        "id": "o0OdgllOEZr0",
        "colab": {
          "base_uri": "https://localhost:8080/"
        },
        "outputId": "24de41d1-0ea1-4fed-9387-d3a5dd75d085"
      },
      "execution_count": 46,
      "outputs": [
        {
          "output_type": "stream",
          "name": "stdout",
          "text": [
            "Patterns in the sales data using a rolling window:\n",
            "0                NaN\n",
            "1                NaN\n",
            "2          60.333333\n",
            "3         101.666667\n",
            "4         124.333333\n",
            "            ...     \n",
            "34862    1510.000000\n",
            "34863    1680.333333\n",
            "34864    1745.333333\n",
            "34865    1611.000000\n",
            "34866    1297.177365\n",
            "Name: Revenue, Length: 34867, dtype: float64\n"
          ]
        }
      ]
    },
    {
      "cell_type": "markdown",
      "source": [
        "What is the average revenue per customer by product category?"
      ],
      "metadata": {
        "id": "EblzmVDnEaME"
      }
    },
    {
      "cell_type": "code",
      "source": [
        "average_revenue_per_customer_category = df.groupby('Product Category')['Revenue'].mean()\n",
        "print(\"Average revenue per customer by product category:\")\n",
        "print(average_revenue_per_customer_category)"
      ],
      "metadata": {
        "id": "PQGHMj-fEaiw",
        "colab": {
          "base_uri": "https://localhost:8080/"
        },
        "outputId": "d2f4a672-2600-4d28-bcfc-120661a76956"
      },
      "execution_count": 47,
      "outputs": [
        {
          "output_type": "stream",
          "name": "stdout",
          "text": [
            "Average revenue per customer by product category:\n",
            "Product Category\n",
            "Accessories     329.309665\n",
            "Bikes          1619.393064\n",
            "Clothing        656.147547\n",
            "Name: Revenue, dtype: float64\n"
          ]
        }
      ]
    },
    {
      "cell_type": "markdown",
      "source": [
        "How does the sales quantity vary by state and product category?"
      ],
      "metadata": {
        "id": "bigo0Q8rEa7f"
      }
    },
    {
      "cell_type": "code",
      "source": [
        "quantity_sold_by_state_category = df.groupby(['State', 'Product Category'])['Quantity'].sum()\n",
        "print(\"Sales quantity by state and product category:\")\n",
        "print(quantity_sold_by_state_category)"
      ],
      "metadata": {
        "id": "-71EvvC3EbSK",
        "colab": {
          "base_uri": "https://localhost:8080/"
        },
        "outputId": "0d0254ff-2927-4909-ddbe-9d5fdd3074f6"
      },
      "execution_count": 48,
      "outputs": [
        {
          "output_type": "stream",
          "name": "stdout",
          "text": [
            "Sales quantity by state and product category:\n",
            "State    Product Category\n",
            "Alabama  Accessories           6.0\n",
            "Arizona  Accessories           2.0\n",
            "         Bikes                 3.0\n",
            "Bayern   Accessories         809.0\n",
            "         Bikes               355.0\n",
            "                             ...  \n",
            "Wyoming  Bikes                 3.0\n",
            "         Clothing              1.0\n",
            "Yveline  Accessories         566.0\n",
            "         Bikes               215.0\n",
            "         Clothing            114.0\n",
            "Name: Quantity, Length: 112, dtype: float64\n"
          ]
        }
      ]
    },
    {
      "cell_type": "markdown",
      "source": [
        "What is the total revenue for each state and product category?"
      ],
      "metadata": {
        "id": "X449noY_Ebzd"
      }
    },
    {
      "cell_type": "code",
      "source": [
        "total_revenue_state_category = df.groupby(['State', 'Product Category'])['Revenue'].sum()\n",
        "print(\"Total revenue for each state and product category:\")\n",
        "print(total_revenue_state_category)"
      ],
      "metadata": {
        "id": "Sux-O2PLEcM9",
        "colab": {
          "base_uri": "https://localhost:8080/"
        },
        "outputId": "848912f7-ae21-4505-cb1e-ef5834a1f372"
      },
      "execution_count": 49,
      "outputs": [
        {
          "output_type": "stream",
          "name": "stdout",
          "text": [
            "Total revenue for each state and product category:\n",
            "State    Product Category\n",
            "Alabama  Accessories           1214.0\n",
            "Arizona  Accessories             71.0\n",
            "         Bikes                 1949.0\n",
            "Bayern   Accessories         165207.0\n",
            "         Bikes               317712.0\n",
            "                               ...   \n",
            "Wyoming  Bikes                 2094.0\n",
            "         Clothing               140.0\n",
            "Yveline  Accessories          97325.0\n",
            "         Bikes               188739.0\n",
            "         Clothing             30486.0\n",
            "Name: Revenue, Length: 112, dtype: float64\n"
          ]
        }
      ]
    },
    {
      "cell_type": "markdown",
      "source": [
        "Can you identify any correlations between unit cost and unit price?"
      ],
      "metadata": {
        "id": "smBsWZJKEchl"
      }
    },
    {
      "cell_type": "code",
      "source": [
        "correlation_unit_cost_unit_price = df['Unit Cost'].corr(df['Unit Price'])\n",
        "print(\"Correlation between unit cost and unit price:\", correlation_unit_cost_unit_price)\n"
      ],
      "metadata": {
        "id": "ISyXAsS5Ec7D",
        "colab": {
          "base_uri": "https://localhost:8080/"
        },
        "outputId": "b6ced920-6741-458d-bd85-35fa67e630f2"
      },
      "execution_count": 50,
      "outputs": [
        {
          "output_type": "stream",
          "name": "stdout",
          "text": [
            "Correlation between unit cost and unit price: 0.9810325127553657\n"
          ]
        }
      ]
    },
    {
      "cell_type": "markdown",
      "source": [
        "How does the quantity sold vary by year and product category?"
      ],
      "metadata": {
        "id": "zd3Q6ZQpEddb"
      }
    },
    {
      "cell_type": "code",
      "source": [
        "quantity_sold_by_year_category = df.groupby(['Year', 'Product Category'])['Quantity'].sum()\n",
        "print(\"Sales quantity by year and product category:\")\n",
        "print(quantity_sold_by_year_category)"
      ],
      "metadata": {
        "id": "leZz0a_QEd9u",
        "colab": {
          "base_uri": "https://localhost:8080/"
        },
        "outputId": "9eb89811-d4b4-48da-ce8f-d69405fa813d"
      },
      "execution_count": 51,
      "outputs": [
        {
          "output_type": "stream",
          "name": "stdout",
          "text": [
            "Sales quantity by year and product category:\n",
            "Year    Product Category\n",
            "2015.0  Accessories         18433.0\n",
            "        Bikes                7482.0\n",
            "        Clothing             4148.0\n",
            "2016.0  Accessories         26615.0\n",
            "        Bikes                6809.0\n",
            "        Clothing             6333.0\n",
            "Name: Quantity, dtype: float64\n"
          ]
        }
      ]
    },
    {
      "cell_type": "markdown",
      "source": [
        "What is the average unit cost and unit price per month?"
      ],
      "metadata": {
        "id": "v36WpGQ3EeZE"
      }
    },
    {
      "cell_type": "code",
      "source": [
        "average_unit_cost_by_month = df.groupby('Month')['Unit Cost'].mean()\n",
        "average_unit_price_by_month = df.groupby('Month')['Unit Price'].mean()\n",
        "print(\"Average unit cost by month:\")\n",
        "print(average_unit_cost_by_month)\n",
        "print(\"Average unit price by month:\")\n",
        "print(average_unit_price_by_month)"
      ],
      "metadata": {
        "colab": {
          "base_uri": "https://localhost:8080/"
        },
        "id": "tLeM6IhbtPO7",
        "outputId": "5e648518-6051-40bf-b176-b73cc8239e98"
      },
      "execution_count": 52,
      "outputs": [
        {
          "output_type": "stream",
          "name": "stdout",
          "text": [
            "Average unit cost by month:\n",
            "Month\n",
            "April        349.511666\n",
            "August       312.070477\n",
            "December     363.762607\n",
            "February     363.155920\n",
            "January      353.736533\n",
            "July         324.040429\n",
            "June         384.244571\n",
            "March        354.298634\n",
            "May          380.146474\n",
            "November     339.064072\n",
            "October      303.526308\n",
            "September    324.816361\n",
            "Name: Unit Cost, dtype: float64\n",
            "Average unit price by month:\n",
            "Month\n",
            "April        404.558585\n",
            "August       328.680122\n",
            "December     376.063904\n",
            "February     416.473560\n",
            "January      411.385965\n",
            "July         358.119639\n",
            "June         441.809194\n",
            "March        411.424459\n",
            "May          438.613756\n",
            "November     351.941452\n",
            "October      319.416993\n",
            "September    339.770806\n",
            "Name: Unit Price, dtype: float64\n"
          ]
        }
      ]
    },
    {
      "cell_type": "markdown",
      "source": [
        "Can you identify any patterns or anomalies in the 'Column1' column?"
      ],
      "metadata": {
        "id": "6_OGSmF_EgCo"
      }
    },
    {
      "cell_type": "code",
      "source": [
        "column1_unique_values = df['Column1'].unique()\n",
        "print(\"Unique values in 'Column1':\")\n",
        "print(column1_unique_values)"
      ],
      "metadata": {
        "id": "Bs2PiSk1EhAT",
        "colab": {
          "base_uri": "https://localhost:8080/"
        },
        "outputId": "f5f86447-8188-4a9d-ce1b-20325cabfd3d"
      },
      "execution_count": 53,
      "outputs": [
        {
          "output_type": "stream",
          "name": "stdout",
          "text": [
            "Unique values in 'Column1':\n",
            "[        nan 2370.        398.       ... 1971.       1568.\n",
            "  687.344828]\n"
          ]
        }
      ]
    }
  ]
}